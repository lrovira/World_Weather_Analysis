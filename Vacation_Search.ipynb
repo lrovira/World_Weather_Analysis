{
 "cells": [
  {
   "cell_type": "code",
   "execution_count": 16,
   "metadata": {},
   "outputs": [],
   "source": [
    "#Challenge 6 (Import the dependencies).\n",
    "import pandas as pd\n",
    "import gmaps\n",
    "import gmaps.datasets\n",
    "import requests\n",
    "# Import the API key.\n",
    "from config import g_key"
   ]
  },
  {
   "cell_type": "code",
   "execution_count": 17,
   "metadata": {},
   "outputs": [
    {
     "output_type": "execute_result",
     "data": {
      "text/plain": "   City_ID           City Country    Lat    Lng  Max Temp  Humidity  \\\n0        0  Mar Del Plata      AR -38.00 -57.56     55.00        50   \n1        1      Jamestown      US  42.10 -79.24     69.01        93   \n2        2       Nyandoma      RU  61.67  40.20     62.17        97   \n3        3         Albany      US  42.60 -73.97     89.01        70   \n4        4           Aden      YE  12.78  45.04     89.28        69   \n\n   Cloudiness  Wind Speed   Current Description  Rain (Inches)  Snow (Inches)  \n0          51       24.16         broken clouds           0.00              0  \n1          90       23.04  heavy intensity rain           4.06              0  \n2         100        9.89            light rain           0.13              0  \n3          48        4.00            light rain           0.19              0  \n4          80        8.90         broken clouds           0.00              0  ",
      "text/html": "<div>\n<style scoped>\n    .dataframe tbody tr th:only-of-type {\n        vertical-align: middle;\n    }\n\n    .dataframe tbody tr th {\n        vertical-align: top;\n    }\n\n    .dataframe thead th {\n        text-align: right;\n    }\n</style>\n<table border=\"1\" class=\"dataframe\">\n  <thead>\n    <tr style=\"text-align: right;\">\n      <th></th>\n      <th>City_ID</th>\n      <th>City</th>\n      <th>Country</th>\n      <th>Lat</th>\n      <th>Lng</th>\n      <th>Max Temp</th>\n      <th>Humidity</th>\n      <th>Cloudiness</th>\n      <th>Wind Speed</th>\n      <th>Current Description</th>\n      <th>Rain (Inches)</th>\n      <th>Snow (Inches)</th>\n    </tr>\n  </thead>\n  <tbody>\n    <tr>\n      <th>0</th>\n      <td>0</td>\n      <td>Mar Del Plata</td>\n      <td>AR</td>\n      <td>-38.00</td>\n      <td>-57.56</td>\n      <td>55.00</td>\n      <td>50</td>\n      <td>51</td>\n      <td>24.16</td>\n      <td>broken clouds</td>\n      <td>0.00</td>\n      <td>0</td>\n    </tr>\n    <tr>\n      <th>1</th>\n      <td>1</td>\n      <td>Jamestown</td>\n      <td>US</td>\n      <td>42.10</td>\n      <td>-79.24</td>\n      <td>69.01</td>\n      <td>93</td>\n      <td>90</td>\n      <td>23.04</td>\n      <td>heavy intensity rain</td>\n      <td>4.06</td>\n      <td>0</td>\n    </tr>\n    <tr>\n      <th>2</th>\n      <td>2</td>\n      <td>Nyandoma</td>\n      <td>RU</td>\n      <td>61.67</td>\n      <td>40.20</td>\n      <td>62.17</td>\n      <td>97</td>\n      <td>100</td>\n      <td>9.89</td>\n      <td>light rain</td>\n      <td>0.13</td>\n      <td>0</td>\n    </tr>\n    <tr>\n      <th>3</th>\n      <td>3</td>\n      <td>Albany</td>\n      <td>US</td>\n      <td>42.60</td>\n      <td>-73.97</td>\n      <td>89.01</td>\n      <td>70</td>\n      <td>48</td>\n      <td>4.00</td>\n      <td>light rain</td>\n      <td>0.19</td>\n      <td>0</td>\n    </tr>\n    <tr>\n      <th>4</th>\n      <td>4</td>\n      <td>Aden</td>\n      <td>YE</td>\n      <td>12.78</td>\n      <td>45.04</td>\n      <td>89.28</td>\n      <td>69</td>\n      <td>80</td>\n      <td>8.90</td>\n      <td>broken clouds</td>\n      <td>0.00</td>\n      <td>0</td>\n    </tr>\n  </tbody>\n</table>\n</div>"
     },
     "metadata": {},
     "execution_count": 17
    }
   ],
   "source": [
    "#Challenge 6 (Store the CSV you saved created in part one into a DataFrame).\n",
    "city_data_df = pd.read_csv(\"weather_data/WeatherPy_database.csv\")\n",
    "city_data_df.head()"
   ]
  },
  {
   "cell_type": "code",
   "execution_count": 18,
   "metadata": {},
   "outputs": [],
   "source": [
    "#Challenge 6  (Ask the customer to add a minimum and maximum temperature value)\n",
    "min_temp = float(input(\"What is the minimum temperature you would like for your trip? \"))\n",
    "max_temp = float(input(\"What is the maximum temperature you would like for your trip? \"))"
   ]
  },
  {
   "cell_type": "code",
   "execution_count": 19,
   "metadata": {},
   "outputs": [],
   "source": [
    "#Challenge 6  (Ask the customer to add raining and snowing preferences)\n",
    "rain_input = str(input(\"Do you want it to be raining? (yes/no) \"))\n",
    "snow_input = str(input(\"Do you want it to be snowing? (yes/no) \"))"
   ]
  },
  {
   "cell_type": "code",
   "execution_count": 20,
   "metadata": {},
   "outputs": [],
   "source": [
    "# Challenge 6 (Filter the dataset to find the cities that fit the criteria)\n",
    "if rain_input == \"yes\" and snow_input ==\"yes\":\n",
    "    preferred_cities_df = city_data_df.loc[(city_data_df[\"Max Temp\"] <= max_temp) & \\\n",
    "                                           (city_data_df[\"Max Temp\"] >= min_temp) & \\\n",
    "                                           (city_data_df[\"Rain (Inches)\"] > 0) & \\\n",
    "                                           (city_data_df[\"Snow (Inches)\"] > 0)]   \n",
    "elif rain_input == \"yes\" and snow_input ==\"no\":\n",
    "    preferred_cities_df = city_data_df.loc[(city_data_df[\"Max Temp\"] <= max_temp) & \\\n",
    "                                           (city_data_df[\"Max Temp\"] >= min_temp) & \\\n",
    "                                           (city_data_df[\"Rain (Inches)\"] > 0) & \\\n",
    "                                           (city_data_df[\"Snow (Inches)\"] == 0)] \n",
    "elif rain_input == \"no\" and snow_input ==\"no\":\n",
    "    preferred_cities_df = city_data_df.loc[(city_data_df[\"Max Temp\"] <= max_temp) & \\\n",
    "                                           (city_data_df[\"Max Temp\"] >= min_temp) & \\\n",
    "                                           (city_data_df[\"Rain (Inches)\"] == 0) & \\\n",
    "                                           (city_data_df[\"Snow (Inches)\"] == 0)] \n",
    "elif rain_input == \"no\" and snow_input ==\"yes\":\n",
    "    preferred_cities_df = city_data_df.loc[(city_data_df[\"Max Temp\"] <= max_temp) & \\\n",
    "                                           (city_data_df[\"Max Temp\"] >= min_temp) & \\\n",
    "                                           (city_data_df[\"Rain (Inches)\"] == 0) & \\\n",
    "                                           (city_data_df[\"Snow (Inches)\"] > 0)]\n",
    "else:\n",
    "    print(\"Please enter either yes or no response\")\n",
    "    "
   ]
  },
  {
   "cell_type": "code",
   "execution_count": 21,
   "metadata": {},
   "outputs": [
    {
     "output_type": "execute_result",
     "data": {
      "text/plain": "    City_ID           City Country    Lat     Lng  Max Temp  Humidity  \\\n0         0  Mar Del Plata      AR -38.00  -57.56     55.00        50   \n4         4           Aden      YE  12.78   45.04     89.28        69   \n6         6        La Roda      ES  39.22   -2.15     87.80        35   \n7         7       La Ronge      CA  55.10 -105.28     71.60        56   \n8         8          Kapaa      US  22.08 -159.32     80.60        69   \n9         9     Brigantine      US  39.41  -74.36     84.20        74   \n10       10        Fortuna      US  40.60 -124.16     63.00        93   \n11       11     Nouadhibou      MR  20.93  -17.03     75.20        69   \n13       13          Khani      GE  41.96   42.96     73.40        88   \n14       14         Khilok      RU  51.37  110.47     56.10        91   \n\n    Cloudiness  Wind Speed Current Description  Rain (Inches)  Snow (Inches)  \n0           51       24.16       broken clouds            0.0              0  \n4           80        8.90       broken clouds            0.0              0  \n6            1       12.75           clear sky            0.0              0  \n7           75       14.99       broken clouds            0.0              0  \n8           40       16.11    scattered clouds            0.0              0  \n9            1        8.05           clear sky            0.0              0  \n10          90       12.75     overcast clouds            0.0              0  \n11           0       20.80                sand            0.0              0  \n13          75        2.24       broken clouds            0.0              0  \n14          59        2.68       broken clouds            0.0              0  ",
      "text/html": "<div>\n<style scoped>\n    .dataframe tbody tr th:only-of-type {\n        vertical-align: middle;\n    }\n\n    .dataframe tbody tr th {\n        vertical-align: top;\n    }\n\n    .dataframe thead th {\n        text-align: right;\n    }\n</style>\n<table border=\"1\" class=\"dataframe\">\n  <thead>\n    <tr style=\"text-align: right;\">\n      <th></th>\n      <th>City_ID</th>\n      <th>City</th>\n      <th>Country</th>\n      <th>Lat</th>\n      <th>Lng</th>\n      <th>Max Temp</th>\n      <th>Humidity</th>\n      <th>Cloudiness</th>\n      <th>Wind Speed</th>\n      <th>Current Description</th>\n      <th>Rain (Inches)</th>\n      <th>Snow (Inches)</th>\n    </tr>\n  </thead>\n  <tbody>\n    <tr>\n      <th>0</th>\n      <td>0</td>\n      <td>Mar Del Plata</td>\n      <td>AR</td>\n      <td>-38.00</td>\n      <td>-57.56</td>\n      <td>55.00</td>\n      <td>50</td>\n      <td>51</td>\n      <td>24.16</td>\n      <td>broken clouds</td>\n      <td>0.0</td>\n      <td>0</td>\n    </tr>\n    <tr>\n      <th>4</th>\n      <td>4</td>\n      <td>Aden</td>\n      <td>YE</td>\n      <td>12.78</td>\n      <td>45.04</td>\n      <td>89.28</td>\n      <td>69</td>\n      <td>80</td>\n      <td>8.90</td>\n      <td>broken clouds</td>\n      <td>0.0</td>\n      <td>0</td>\n    </tr>\n    <tr>\n      <th>6</th>\n      <td>6</td>\n      <td>La Roda</td>\n      <td>ES</td>\n      <td>39.22</td>\n      <td>-2.15</td>\n      <td>87.80</td>\n      <td>35</td>\n      <td>1</td>\n      <td>12.75</td>\n      <td>clear sky</td>\n      <td>0.0</td>\n      <td>0</td>\n    </tr>\n    <tr>\n      <th>7</th>\n      <td>7</td>\n      <td>La Ronge</td>\n      <td>CA</td>\n      <td>55.10</td>\n      <td>-105.28</td>\n      <td>71.60</td>\n      <td>56</td>\n      <td>75</td>\n      <td>14.99</td>\n      <td>broken clouds</td>\n      <td>0.0</td>\n      <td>0</td>\n    </tr>\n    <tr>\n      <th>8</th>\n      <td>8</td>\n      <td>Kapaa</td>\n      <td>US</td>\n      <td>22.08</td>\n      <td>-159.32</td>\n      <td>80.60</td>\n      <td>69</td>\n      <td>40</td>\n      <td>16.11</td>\n      <td>scattered clouds</td>\n      <td>0.0</td>\n      <td>0</td>\n    </tr>\n    <tr>\n      <th>9</th>\n      <td>9</td>\n      <td>Brigantine</td>\n      <td>US</td>\n      <td>39.41</td>\n      <td>-74.36</td>\n      <td>84.20</td>\n      <td>74</td>\n      <td>1</td>\n      <td>8.05</td>\n      <td>clear sky</td>\n      <td>0.0</td>\n      <td>0</td>\n    </tr>\n    <tr>\n      <th>10</th>\n      <td>10</td>\n      <td>Fortuna</td>\n      <td>US</td>\n      <td>40.60</td>\n      <td>-124.16</td>\n      <td>63.00</td>\n      <td>93</td>\n      <td>90</td>\n      <td>12.75</td>\n      <td>overcast clouds</td>\n      <td>0.0</td>\n      <td>0</td>\n    </tr>\n    <tr>\n      <th>11</th>\n      <td>11</td>\n      <td>Nouadhibou</td>\n      <td>MR</td>\n      <td>20.93</td>\n      <td>-17.03</td>\n      <td>75.20</td>\n      <td>69</td>\n      <td>0</td>\n      <td>20.80</td>\n      <td>sand</td>\n      <td>0.0</td>\n      <td>0</td>\n    </tr>\n    <tr>\n      <th>13</th>\n      <td>13</td>\n      <td>Khani</td>\n      <td>GE</td>\n      <td>41.96</td>\n      <td>42.96</td>\n      <td>73.40</td>\n      <td>88</td>\n      <td>75</td>\n      <td>2.24</td>\n      <td>broken clouds</td>\n      <td>0.0</td>\n      <td>0</td>\n    </tr>\n    <tr>\n      <th>14</th>\n      <td>14</td>\n      <td>Khilok</td>\n      <td>RU</td>\n      <td>51.37</td>\n      <td>110.47</td>\n      <td>56.10</td>\n      <td>91</td>\n      <td>59</td>\n      <td>2.68</td>\n      <td>broken clouds</td>\n      <td>0.0</td>\n      <td>0</td>\n    </tr>\n  </tbody>\n</table>\n</div>"
     },
     "metadata": {},
     "execution_count": 21
    }
   ],
   "source": [
    "preferred_cities_df.head(10)\n"
   ]
  },
  {
   "cell_type": "code",
   "execution_count": 22,
   "metadata": {},
   "outputs": [
    {
     "output_type": "execute_result",
     "data": {
      "text/plain": "             City Country  Max Temp Current Description    Lat     Lng  \\\n0   Mar Del Plata      AR     55.00       broken clouds -38.00  -57.56   \n4            Aden      YE     89.28       broken clouds  12.78   45.04   \n6         La Roda      ES     87.80           clear sky  39.22   -2.15   \n7        La Ronge      CA     71.60       broken clouds  55.10 -105.28   \n8           Kapaa      US     80.60    scattered clouds  22.08 -159.32   \n9      Brigantine      US     84.20           clear sky  39.41  -74.36   \n10        Fortuna      US     63.00     overcast clouds  40.60 -124.16   \n11     Nouadhibou      MR     75.20                sand  20.93  -17.03   \n13          Khani      GE     73.40       broken clouds  41.96   42.96   \n14         Khilok      RU     56.10       broken clouds  51.37  110.47   \n\n   Hotel Name  \n0              \n4              \n6              \n7              \n8              \n9              \n10             \n11             \n13             \n14             ",
      "text/html": "<div>\n<style scoped>\n    .dataframe tbody tr th:only-of-type {\n        vertical-align: middle;\n    }\n\n    .dataframe tbody tr th {\n        vertical-align: top;\n    }\n\n    .dataframe thead th {\n        text-align: right;\n    }\n</style>\n<table border=\"1\" class=\"dataframe\">\n  <thead>\n    <tr style=\"text-align: right;\">\n      <th></th>\n      <th>City</th>\n      <th>Country</th>\n      <th>Max Temp</th>\n      <th>Current Description</th>\n      <th>Lat</th>\n      <th>Lng</th>\n      <th>Hotel Name</th>\n    </tr>\n  </thead>\n  <tbody>\n    <tr>\n      <th>0</th>\n      <td>Mar Del Plata</td>\n      <td>AR</td>\n      <td>55.00</td>\n      <td>broken clouds</td>\n      <td>-38.00</td>\n      <td>-57.56</td>\n      <td></td>\n    </tr>\n    <tr>\n      <th>4</th>\n      <td>Aden</td>\n      <td>YE</td>\n      <td>89.28</td>\n      <td>broken clouds</td>\n      <td>12.78</td>\n      <td>45.04</td>\n      <td></td>\n    </tr>\n    <tr>\n      <th>6</th>\n      <td>La Roda</td>\n      <td>ES</td>\n      <td>87.80</td>\n      <td>clear sky</td>\n      <td>39.22</td>\n      <td>-2.15</td>\n      <td></td>\n    </tr>\n    <tr>\n      <th>7</th>\n      <td>La Ronge</td>\n      <td>CA</td>\n      <td>71.60</td>\n      <td>broken clouds</td>\n      <td>55.10</td>\n      <td>-105.28</td>\n      <td></td>\n    </tr>\n    <tr>\n      <th>8</th>\n      <td>Kapaa</td>\n      <td>US</td>\n      <td>80.60</td>\n      <td>scattered clouds</td>\n      <td>22.08</td>\n      <td>-159.32</td>\n      <td></td>\n    </tr>\n    <tr>\n      <th>9</th>\n      <td>Brigantine</td>\n      <td>US</td>\n      <td>84.20</td>\n      <td>clear sky</td>\n      <td>39.41</td>\n      <td>-74.36</td>\n      <td></td>\n    </tr>\n    <tr>\n      <th>10</th>\n      <td>Fortuna</td>\n      <td>US</td>\n      <td>63.00</td>\n      <td>overcast clouds</td>\n      <td>40.60</td>\n      <td>-124.16</td>\n      <td></td>\n    </tr>\n    <tr>\n      <th>11</th>\n      <td>Nouadhibou</td>\n      <td>MR</td>\n      <td>75.20</td>\n      <td>sand</td>\n      <td>20.93</td>\n      <td>-17.03</td>\n      <td></td>\n    </tr>\n    <tr>\n      <th>13</th>\n      <td>Khani</td>\n      <td>GE</td>\n      <td>73.40</td>\n      <td>broken clouds</td>\n      <td>41.96</td>\n      <td>42.96</td>\n      <td></td>\n    </tr>\n    <tr>\n      <th>14</th>\n      <td>Khilok</td>\n      <td>RU</td>\n      <td>56.10</td>\n      <td>broken clouds</td>\n      <td>51.37</td>\n      <td>110.47</td>\n      <td></td>\n    </tr>\n  </tbody>\n</table>\n</div>"
     },
     "metadata": {},
     "execution_count": 22
    }
   ],
   "source": [
    "#Challenge 6 (Create DataFrame called hotel_df to store hotel names along with city, country, max temp, and current weather)\n",
    "hotel_df = preferred_cities_df[[\"City\", \"Country\", \"Max Temp\", \"Current Description\", \"Lat\", \"Lng\"]].copy()\n",
    "hotel_df[\"Hotel Name\"] = \"\"\n",
    "hotel_df.head(10)"
   ]
  },
  {
   "cell_type": "code",
   "execution_count": 23,
   "metadata": {},
   "outputs": [],
   "source": [
    "# Challenge 6 (Set parameters to search for a hotel).\n",
    "params = {\n",
    "    \"radius\": 6000,\n",
    "    \"type\": \"lodging\",\n",
    "    \"key\": g_key,\n",
    "    \"location\": \"48.8566, 2.3522\"}"
   ]
  },
  {
   "cell_type": "code",
   "execution_count": 24,
   "metadata": {},
   "outputs": [],
   "source": [
    "# Challenge 6 (Dependencies and Setup)\n",
    "import requests\n",
    "import gmaps\n",
    "\n",
    "# Import API key\n",
    "from config import g_key"
   ]
  },
  {
   "cell_type": "code",
   "execution_count": 25,
   "metadata": {},
   "outputs": [],
   "source": [
    "# Challenge 6  (Configure gmaps to use your Google API key)\n",
    "gmaps.configure(api_key=g_key)"
   ]
  },
  {
   "cell_type": "code",
   "execution_count": 26,
   "metadata": {
    "tags": []
   },
   "outputs": [
    {
     "output_type": "stream",
     "name": "stdout",
     "text": "Hotel not found... skipping.\nHotel not found... skipping.\nHotel not found... skipping.\nHotel not found... skipping.\nHotel not found... skipping.\nHotel not found... skipping.\nHotel not found... skipping.\nHotel not found... skipping.\nHotel not found... skipping.\nHotel not found... skipping.\nHotel not found... skipping.\nHotel not found... skipping.\nHotel not found... skipping.\nHotel not found... skipping.\nHotel not found... skipping.\nHotel not found... skipping.\nHotel not found... skipping.\nHotel not found... skipping.\nHotel not found... skipping.\nHotel not found... skipping.\nHotel not found... skipping.\nHotel not found... skipping.\nHotel not found... skipping.\nHotel not found... skipping.\nHotel not found... skipping.\nHotel not found... skipping.\nHotel not found... skipping.\nHotel not found... skipping.\nHotel not found... skipping.\nHotel not found... skipping.\nHotel not found... skipping.\nHotel not found... skipping.\nHotel not found... skipping.\nHotel not found... skipping.\nHotel not found... skipping.\nHotel not found... skipping.\nHotel not found... skipping.\nHotel not found... skipping.\nHotel not found... skipping.\nHotel not found... skipping.\nHotel not found... skipping.\nHotel not found... skipping.\nHotel not found... skipping.\nHotel not found... skipping.\n"
    }
   ],
   "source": [
    "#Challenge 6\n",
    "for index, row in hotel_df.iterrows():\n",
    "    # Latitude and Longitude.\n",
    "    lat = row[\"Lat\"]\n",
    "    lng = row[\"Lng\"]\n",
    "\n",
    "    # Location key\n",
    "    params[\"location\"] = f\"{lat},{lng}\"\n",
    "\n",
    "    # term \"lodging\" \n",
    "    base_url = \"https://maps.googleapis.com/maps/api/place/nearbysearch/json\"\n",
    "    # Make request and get the JSON\n",
    "    hotels = requests.get(base_url, params=params).json()\n",
    "    # First Hotel\n",
    "    try:\n",
    "        hotel_df.loc[index, \"Hotel Name\"] = hotels[\"results\"][0][\"name\"]\n",
    "    except (IndexError):\n",
    "        print(\"Hotel not found... skipping.\")"
   ]
  },
  {
   "cell_type": "code",
   "execution_count": 27,
   "metadata": {},
   "outputs": [
    {
     "output_type": "execute_result",
     "data": {
      "text/plain": "             City Country  Max Temp Current Description    Lat     Lng  \\\n0   Mar Del Plata      AR     55.00       broken clouds -38.00  -57.56   \n4            Aden      YE     89.28       broken clouds  12.78   45.04   \n6         La Roda      ES     87.80           clear sky  39.22   -2.15   \n7        La Ronge      CA     71.60       broken clouds  55.10 -105.28   \n8           Kapaa      US     80.60    scattered clouds  22.08 -159.32   \n9      Brigantine      US     84.20           clear sky  39.41  -74.36   \n10        Fortuna      US     63.00     overcast clouds  40.60 -124.16   \n11     Nouadhibou      MR     75.20                sand  20.93  -17.03   \n13          Khani      GE     73.40       broken clouds  41.96   42.96   \n14         Khilok      RU     56.10       broken clouds  51.37  110.47   \n\n                                 Hotel Name  \n0     Gran Hotel Mar del Plata habitaciones  \n4                        Sama Emirate Hotel  \n6             Restaurante El Sueño de Jemik  \n7                     Northland Motor Hotel  \n8    Sheraton Kauai Resort at Coconut Beach  \n9   Legacy Vacation Resort Brigantine Beach  \n10               Super 8 by Wyndham Fortuna  \n11                                El Medina  \n13                             Nino village  \n14                          Гостиница ВИОЛА  ",
      "text/html": "<div>\n<style scoped>\n    .dataframe tbody tr th:only-of-type {\n        vertical-align: middle;\n    }\n\n    .dataframe tbody tr th {\n        vertical-align: top;\n    }\n\n    .dataframe thead th {\n        text-align: right;\n    }\n</style>\n<table border=\"1\" class=\"dataframe\">\n  <thead>\n    <tr style=\"text-align: right;\">\n      <th></th>\n      <th>City</th>\n      <th>Country</th>\n      <th>Max Temp</th>\n      <th>Current Description</th>\n      <th>Lat</th>\n      <th>Lng</th>\n      <th>Hotel Name</th>\n    </tr>\n  </thead>\n  <tbody>\n    <tr>\n      <th>0</th>\n      <td>Mar Del Plata</td>\n      <td>AR</td>\n      <td>55.00</td>\n      <td>broken clouds</td>\n      <td>-38.00</td>\n      <td>-57.56</td>\n      <td>Gran Hotel Mar del Plata habitaciones</td>\n    </tr>\n    <tr>\n      <th>4</th>\n      <td>Aden</td>\n      <td>YE</td>\n      <td>89.28</td>\n      <td>broken clouds</td>\n      <td>12.78</td>\n      <td>45.04</td>\n      <td>Sama Emirate Hotel</td>\n    </tr>\n    <tr>\n      <th>6</th>\n      <td>La Roda</td>\n      <td>ES</td>\n      <td>87.80</td>\n      <td>clear sky</td>\n      <td>39.22</td>\n      <td>-2.15</td>\n      <td>Restaurante El Sueño de Jemik</td>\n    </tr>\n    <tr>\n      <th>7</th>\n      <td>La Ronge</td>\n      <td>CA</td>\n      <td>71.60</td>\n      <td>broken clouds</td>\n      <td>55.10</td>\n      <td>-105.28</td>\n      <td>Northland Motor Hotel</td>\n    </tr>\n    <tr>\n      <th>8</th>\n      <td>Kapaa</td>\n      <td>US</td>\n      <td>80.60</td>\n      <td>scattered clouds</td>\n      <td>22.08</td>\n      <td>-159.32</td>\n      <td>Sheraton Kauai Resort at Coconut Beach</td>\n    </tr>\n    <tr>\n      <th>9</th>\n      <td>Brigantine</td>\n      <td>US</td>\n      <td>84.20</td>\n      <td>clear sky</td>\n      <td>39.41</td>\n      <td>-74.36</td>\n      <td>Legacy Vacation Resort Brigantine Beach</td>\n    </tr>\n    <tr>\n      <th>10</th>\n      <td>Fortuna</td>\n      <td>US</td>\n      <td>63.00</td>\n      <td>overcast clouds</td>\n      <td>40.60</td>\n      <td>-124.16</td>\n      <td>Super 8 by Wyndham Fortuna</td>\n    </tr>\n    <tr>\n      <th>11</th>\n      <td>Nouadhibou</td>\n      <td>MR</td>\n      <td>75.20</td>\n      <td>sand</td>\n      <td>20.93</td>\n      <td>-17.03</td>\n      <td>El Medina</td>\n    </tr>\n    <tr>\n      <th>13</th>\n      <td>Khani</td>\n      <td>GE</td>\n      <td>73.40</td>\n      <td>broken clouds</td>\n      <td>41.96</td>\n      <td>42.96</td>\n      <td>Nino village</td>\n    </tr>\n    <tr>\n      <th>14</th>\n      <td>Khilok</td>\n      <td>RU</td>\n      <td>56.10</td>\n      <td>broken clouds</td>\n      <td>51.37</td>\n      <td>110.47</td>\n      <td>Гостиница ВИОЛА</td>\n    </tr>\n  </tbody>\n</table>\n</div>"
     },
     "metadata": {},
     "execution_count": 27
    }
   ],
   "source": [
    "hotel_df.head(10)"
   ]
  },
  {
   "cell_type": "code",
   "execution_count": 28,
   "metadata": {},
   "outputs": [
    {
     "output_type": "display_data",
     "data": {
      "text/plain": "Figure(layout=FigureLayout(height='420px'))",
      "application/vnd.jupyter.widget-view+json": {
       "version_major": 2,
       "version_minor": 0,
       "model_id": "e9b45c85921f4b2bb8ca283f9460d42c"
      }
     },
     "metadata": {}
    }
   ],
   "source": [
    "# Challenge 6 (Add a heatmap of temperature for the vacation each city)\n",
    "locations = hotel_df[[\"Lat\", \"Lng\"]]\n",
    "fig = gmaps.figure(center=(30.0, 31.0), zoom_level=1.3)\n",
    "marker_layer = gmaps.marker_layer(locations)\n",
    "fig.add_layer(marker_layer)\n",
    "# Fig\n",
    "fig"
   ]
  },
  {
   "cell_type": "code",
   "execution_count": 29,
   "metadata": {},
   "outputs": [],
   "source": [
    "info_box_template = \"\"\"\n",
    "<dl>\n",
    "<dt>Hotel Name</dt><dd>{Hotel Name}</dd>\n",
    "<dt>City</dt><dd>{City}</dd>\n",
    "<dt>Country</dt><dd>{Country}</dd>\n",
    "<dt>Current Weather</dt><dd>{Current Description} and {Max Temp} °F </dd>\n",
    "</dl>\n",
    "\"\"\""
   ]
  },
  {
   "cell_type": "code",
   "execution_count": 30,
   "metadata": {},
   "outputs": [],
   "source": [
    "#Challenge 6 Store the DataFrame Row.\n",
    "hotel_info = [info_box_template.format(**row) for index, row in hotel_df.iterrows()]"
   ]
  },
  {
   "cell_type": "code",
   "execution_count": 31,
   "metadata": {},
   "outputs": [
    {
     "output_type": "display_data",
     "data": {
      "text/plain": "Figure(layout=FigureLayout(height='420px'))",
      "application/vnd.jupyter.widget-view+json": {
       "version_major": 2,
       "version_minor": 0,
       "model_id": "26d24835380b4be795734abe64b87a52"
      }
     },
     "metadata": {}
    }
   ],
   "source": [
    "# Challenge 6 Add a heatmap of temperature for the vacation spots and a pop-up marker for city\n",
    "locations = hotel_df[[\"Lat\", \"Lng\"]]\n",
    "fig = gmaps.figure(center=(30.0, 31.0), zoom_level=1.5)\n",
    "marker_layer = gmaps.marker_layer(locations, info_box_content=hotel_info)\n",
    "fig.add_layer(marker_layer)\n",
    "\n",
    "# Call the figure to plot the data.\n",
    "fig"
   ]
  },
  {
   "cell_type": "code",
   "execution_count": 32,
   "metadata": {},
   "outputs": [],
   "source": [
    "#Challenge 6  \n",
    "output_data_file = \"weather_data/WeatherPy_vacation.csv\"\n",
    "#Challenge 6 Export\n",
    "hotel_df.to_csv(output_data_file)"
   ]
  },
  {
   "cell_type": "code",
   "execution_count": null,
   "metadata": {},
   "outputs": [],
   "source": []
  }
 ],
 "metadata": {
  "kernelspec": {
   "display_name": "PythonData",
   "language": "python",
   "name": "pythondata"
  },
  "language_info": {
   "codemirror_mode": {
    "name": "ipython",
    "version": 3
   },
   "file_extension": ".py",
   "mimetype": "text/x-python",
   "name": "python",
   "nbconvert_exporter": "python",
   "pygments_lexer": "ipython3",
   "version": "3.7.7-final"
  }
 },
 "nbformat": 4,
 "nbformat_minor": 4
}