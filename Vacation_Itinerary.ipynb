{
 "cells": [
  {
   "cell_type": "code",
   "execution_count": 1,
   "metadata": {},
   "outputs": [],
   "source": [
    "# Challenge 6 Import the dependencies.\n",
    "import pandas as pd\n",
    "import gmaps\n",
    "import gmaps.datasets\n",
    "import requests\n",
    "# Import the API key.\n",
    "from config import g_key"
   ]
  },
  {
   "cell_type": "code",
   "execution_count": 2,
   "metadata": {},
   "outputs": [],
   "source": [
    "# Configure gmaps to use your Google API key.\n",
    "gmaps.configure(api_key=g_key)"
   ]
  },
  {
   "cell_type": "code",
   "execution_count": 3,
   "metadata": {},
   "outputs": [
    {
     "output_type": "execute_result",
     "data": {
      "text/plain": "              City Country  Max Temp Current Description    Lat     Lng  \\\n0    Mar Del Plata      AR     55.00       broken clouds -38.00  -57.56   \n1             Aden      YE     89.28       broken clouds  12.78   45.04   \n2          La Roda      ES     87.80           clear sky  39.22   -2.15   \n3         La Ronge      CA     71.60       broken clouds  55.10 -105.28   \n4            Kapaa      US     80.60    scattered clouds  22.08 -159.32   \n..             ...     ...       ...                 ...    ...     ...   \n412  Half Moon Bay      US     78.01                haze  37.46 -122.43   \n413      Inhambane      MZ     77.00    scattered clouds -23.86   35.38   \n414          Price      US     89.60           clear sky  39.60 -110.81   \n415      Kemijarvi      FI     54.10           clear sky  66.71   27.43   \n416       Tianpeng      CN     79.00     overcast clouds  30.99  103.94   \n\n                                 Hotel Name  \n0     Gran Hotel Mar del Plata habitaciones  \n1                        Sama Emirate Hotel  \n2             Restaurante El Sueño de Jemik  \n3                     Northland Motor Hotel  \n4    Sheraton Kauai Resort at Coconut Beach  \n..                                      ...  \n412         The Ritz-Carlton, Half Moon Bay  \n413                                  Oceano  \n414            National 9 - Price River Inn  \n415                       Hotelli Kemijärvi  \n416      Shuangliu Love Home Business Hotel  \n\n[417 rows x 7 columns]",
      "text/html": "<div>\n<style scoped>\n    .dataframe tbody tr th:only-of-type {\n        vertical-align: middle;\n    }\n\n    .dataframe tbody tr th {\n        vertical-align: top;\n    }\n\n    .dataframe thead th {\n        text-align: right;\n    }\n</style>\n<table border=\"1\" class=\"dataframe\">\n  <thead>\n    <tr style=\"text-align: right;\">\n      <th></th>\n      <th>City</th>\n      <th>Country</th>\n      <th>Max Temp</th>\n      <th>Current Description</th>\n      <th>Lat</th>\n      <th>Lng</th>\n      <th>Hotel Name</th>\n    </tr>\n  </thead>\n  <tbody>\n    <tr>\n      <th>0</th>\n      <td>Mar Del Plata</td>\n      <td>AR</td>\n      <td>55.00</td>\n      <td>broken clouds</td>\n      <td>-38.00</td>\n      <td>-57.56</td>\n      <td>Gran Hotel Mar del Plata habitaciones</td>\n    </tr>\n    <tr>\n      <th>1</th>\n      <td>Aden</td>\n      <td>YE</td>\n      <td>89.28</td>\n      <td>broken clouds</td>\n      <td>12.78</td>\n      <td>45.04</td>\n      <td>Sama Emirate Hotel</td>\n    </tr>\n    <tr>\n      <th>2</th>\n      <td>La Roda</td>\n      <td>ES</td>\n      <td>87.80</td>\n      <td>clear sky</td>\n      <td>39.22</td>\n      <td>-2.15</td>\n      <td>Restaurante El Sueño de Jemik</td>\n    </tr>\n    <tr>\n      <th>3</th>\n      <td>La Ronge</td>\n      <td>CA</td>\n      <td>71.60</td>\n      <td>broken clouds</td>\n      <td>55.10</td>\n      <td>-105.28</td>\n      <td>Northland Motor Hotel</td>\n    </tr>\n    <tr>\n      <th>4</th>\n      <td>Kapaa</td>\n      <td>US</td>\n      <td>80.60</td>\n      <td>scattered clouds</td>\n      <td>22.08</td>\n      <td>-159.32</td>\n      <td>Sheraton Kauai Resort at Coconut Beach</td>\n    </tr>\n    <tr>\n      <th>...</th>\n      <td>...</td>\n      <td>...</td>\n      <td>...</td>\n      <td>...</td>\n      <td>...</td>\n      <td>...</td>\n      <td>...</td>\n    </tr>\n    <tr>\n      <th>412</th>\n      <td>Half Moon Bay</td>\n      <td>US</td>\n      <td>78.01</td>\n      <td>haze</td>\n      <td>37.46</td>\n      <td>-122.43</td>\n      <td>The Ritz-Carlton, Half Moon Bay</td>\n    </tr>\n    <tr>\n      <th>413</th>\n      <td>Inhambane</td>\n      <td>MZ</td>\n      <td>77.00</td>\n      <td>scattered clouds</td>\n      <td>-23.86</td>\n      <td>35.38</td>\n      <td>Oceano</td>\n    </tr>\n    <tr>\n      <th>414</th>\n      <td>Price</td>\n      <td>US</td>\n      <td>89.60</td>\n      <td>clear sky</td>\n      <td>39.60</td>\n      <td>-110.81</td>\n      <td>National 9 - Price River Inn</td>\n    </tr>\n    <tr>\n      <th>415</th>\n      <td>Kemijarvi</td>\n      <td>FI</td>\n      <td>54.10</td>\n      <td>clear sky</td>\n      <td>66.71</td>\n      <td>27.43</td>\n      <td>Hotelli Kemijärvi</td>\n    </tr>\n    <tr>\n      <th>416</th>\n      <td>Tianpeng</td>\n      <td>CN</td>\n      <td>79.00</td>\n      <td>overcast clouds</td>\n      <td>30.99</td>\n      <td>103.94</td>\n      <td>Shuangliu Love Home Business Hotel</td>\n    </tr>\n  </tbody>\n</table>\n<p>417 rows × 7 columns</p>\n</div>"
     },
     "metadata": {},
     "execution_count": 3
    }
   ],
   "source": [
    "# Challenge 6 (Store the CSV you saved created in part one into a DataFrame)\n",
    "vacation_itinerary_df = pd.read_csv(\"weather_data/WeatherPy_vacation.csv\")\n",
    "vacation_itinerary_df.head()\n",
    "vacation_itinerary_df = vacation_itinerary_df.drop(['Unnamed: 0'], axis = 1)\n",
    "vacation_itinerary_df"
   ]
  },
  {
   "cell_type": "code",
   "execution_count": 4,
   "metadata": {},
   "outputs": [],
   "source": [
    "#Challenge 6 (Create separate DataFrames for each city on the travel route)\n",
    "Touros_df = vacation_itinerary_df.loc[(vacation_itinerary_df[\"City\"]==\"Touros\")] \n",
    "Cabedelo_df = vacation_itinerary_df.loc[(vacation_itinerary_df[\"City\"]==\"Cabedelo\")]\n",
    "Conde_df = vacation_itinerary_df.loc[(vacation_itinerary_df[\"City\"]==\"Conde\")] \n",
    "Olinda_df = vacation_itinerary_df.loc[(vacation_itinerary_df[\"City\"]==\"Olinda\")]"
   ]
  },
  {
   "cell_type": "code",
   "execution_count": 5,
   "metadata": {},
   "outputs": [
    {
     "output_type": "execute_result",
     "data": {
      "text/plain": "array([['Olinda', 'BR', 75.2, 'light rain', -8.01, -34.86,\n        'Flat Quatro Rodas Olinda']], dtype=object)"
     },
     "metadata": {},
     "execution_count": 5
    }
   ],
   "source": [
    "Touros_df.values\n",
    "Cabedelo_df.values\n",
    "Conde_df.values\n",
    "Olinda_df.values"
   ]
  },
  {
   "cell_type": "code",
   "execution_count": 6,
   "metadata": {},
   "outputs": [
    {
     "output_type": "execute_result",
     "data": {
      "text/plain": "       City Country  Max Temp Current Description   Lat    Lng  \\\n0    Touros      BR      73.4          light rain -5.20 -35.46   \n1  Cabedelo      BR      73.4          light rain -6.98 -34.83   \n2     Conde      BR      73.4          light rain -7.26 -34.91   \n3    Olinda      BR      75.2          light rain -8.01 -34.86   \n\n                             Hotel Name  \n0  Casa Palma Azul de praia com piscina  \n1                     Lua Mansa Pousada  \n2                    Pousada Beija Flor  \n3              Flat Quatro Rodas Olinda  ",
      "text/html": "<div>\n<style scoped>\n    .dataframe tbody tr th:only-of-type {\n        vertical-align: middle;\n    }\n\n    .dataframe tbody tr th {\n        vertical-align: top;\n    }\n\n    .dataframe thead th {\n        text-align: right;\n    }\n</style>\n<table border=\"1\" class=\"dataframe\">\n  <thead>\n    <tr style=\"text-align: right;\">\n      <th></th>\n      <th>City</th>\n      <th>Country</th>\n      <th>Max Temp</th>\n      <th>Current Description</th>\n      <th>Lat</th>\n      <th>Lng</th>\n      <th>Hotel Name</th>\n    </tr>\n  </thead>\n  <tbody>\n    <tr>\n      <th>0</th>\n      <td>Touros</td>\n      <td>BR</td>\n      <td>73.4</td>\n      <td>light rain</td>\n      <td>-5.20</td>\n      <td>-35.46</td>\n      <td>Casa Palma Azul de praia com piscina</td>\n    </tr>\n    <tr>\n      <th>1</th>\n      <td>Cabedelo</td>\n      <td>BR</td>\n      <td>73.4</td>\n      <td>light rain</td>\n      <td>-6.98</td>\n      <td>-34.83</td>\n      <td>Lua Mansa Pousada</td>\n    </tr>\n    <tr>\n      <th>2</th>\n      <td>Conde</td>\n      <td>BR</td>\n      <td>73.4</td>\n      <td>light rain</td>\n      <td>-7.26</td>\n      <td>-34.91</td>\n      <td>Pousada Beija Flor</td>\n    </tr>\n    <tr>\n      <th>3</th>\n      <td>Olinda</td>\n      <td>BR</td>\n      <td>75.2</td>\n      <td>light rain</td>\n      <td>-8.01</td>\n      <td>-34.86</td>\n      <td>Flat Quatro Rodas Olinda</td>\n    </tr>\n  </tbody>\n</table>\n</div>"
     },
     "metadata": {},
     "execution_count": 6
    }
   ],
   "source": [
    "#Challenge 6 (Combine the four separate DataFrames for each city into one DataFrame) \n",
    "frames = [Touros_df, Cabedelo_df, Conde_df, Olinda_df]\n",
    "result_df = pd.concat(frames).reset_index(drop=True)\n",
    "result_df"
   ]
  },
  {
   "cell_type": "code",
   "execution_count": 11,
   "metadata": {},
   "outputs": [
    {
     "output_type": "display_data",
     "data": {
      "text/plain": "Figure(layout=FigureLayout(height='420px'))",
      "application/vnd.jupyter.widget-view+json": {
       "version_major": 2,
       "version_minor": 0,
       "model_id": "3a4804bca2374150ba9c02350db5564a"
      }
     },
     "metadata": {}
    }
   ],
   "source": [
    "#Challenge 6 (Use the directions Layer instructions)\n",
    "\n",
    "Touros = (-5.20, -35.46)\n",
    "Cabedelo = (-6.98, -34.83)\n",
    "Conde = (-7.26, -34.91)\n",
    "Olinda = (-8.01, -34.86)\n",
    "\n",
    "fig = gmaps.figure()\n",
    "Touros2Olinda_via_CondeAndOlinda = gmaps.directions_layer(Touros, Olinda, waypoints=[Cabedelo, Conde], travel_mode='DRIVING')\n",
    "fig.add_layer(Touros2Olinda_via_CondeAndOlinda)\n",
    "fig"
   ]
  },
  {
   "cell_type": "code",
   "execution_count": 8,
   "metadata": {},
   "outputs": [],
   "source": [
    "#\n",
    "info_box_template = \"\"\"\n",
    "<dl>\n",
    "<dt>Hotel Name</dt><dd>{Hotel Name}</dd>\n",
    "<dt>City</dt><dd>{City}</dd>\n",
    "<dt>Country</dt><dd>{Country}</dd>\n",
    "<dt>Current Weather</dt><dd>{Current Description} and {Max Temp} °F </dd>\n",
    "</dl>\n",
    "\"\"\""
   ]
  },
  {
   "cell_type": "code",
   "execution_count": 9,
   "metadata": {},
   "outputs": [],
   "source": [
    "#Challenge 6 (Store)\n",
    "hotel_info = [info_box_template.format(**row) for index, row in result_df.iterrows()]"
   ]
  },
  {
   "cell_type": "code",
   "execution_count": 10,
   "metadata": {},
   "outputs": [
    {
     "output_type": "display_data",
     "data": {
      "text/plain": "Figure(layout=FigureLayout(height='420px'))",
      "application/vnd.jupyter.widget-view+json": {
       "version_major": 2,
       "version_minor": 0,
       "model_id": "32cf8c13646148478d11e22380d16c5b"
      }
     },
     "metadata": {}
    }
   ],
   "source": [
    "#Challenge 6 (Build marker layer map)\n",
    "locations = result_df[[\"Lat\", \"Lng\"]]\n",
    "fig = gmaps.figure()\n",
    "marker_layer = gmaps.marker_layer(locations, info_box_content=hotel_info)\n",
    "fig.add_layer(marker_layer)\n",
    "fig"
   ]
  },
  {
   "cell_type": "code",
   "execution_count": null,
   "metadata": {},
   "outputs": [],
   "source": []
  }
 ],
 "metadata": {
  "kernelspec": {
   "display_name": "PythonData",
   "language": "python",
   "name": "pythondata"
  },
  "language_info": {
   "codemirror_mode": {
    "name": "ipython",
    "version": 3
   },
   "file_extension": ".py",
   "mimetype": "text/x-python",
   "name": "python",
   "nbconvert_exporter": "python",
   "pygments_lexer": "ipython3",
   "version": "3.7.7-final"
  }
 },
 "nbformat": 4,
 "nbformat_minor": 4
}