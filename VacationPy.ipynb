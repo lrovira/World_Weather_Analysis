{
 "cells": [
  {
   "cell_type": "code",
   "execution_count": 1,
   "metadata": {},
   "outputs": [],
   "source": [
    "# Import the dependencies.\n",
    "import pandas as pd\n",
    "import gmaps\n",
    "import requests\n",
    "# Import the API key.\n",
    "from config import g_key"
   ]
  },
  {
   "cell_type": "code",
   "execution_count": 2,
   "metadata": {},
   "outputs": [
    {
     "output_type": "execute_result",
     "data": {
      "text/plain": "   City_ID          City Country                 Date    Lat     Lng  \\\n0        0       Rikitea      PF  2020-07-09 17:00:19 -23.12 -134.97   \n1        1  Saint-Pierre      RE  2020-07-09 17:00:19 -21.34   55.48   \n2        2      Katsuura      JP  2020-07-09 17:00:19  35.13  140.30   \n3        3        Albany      US  2020-07-09 16:57:22  42.60  -73.97   \n4        4     Cape Town      ZA  2020-07-09 16:57:21 -33.93   18.42   \n\n   Max Temp  Humidity  Cloudiness  Wind Speed  \n0     68.20        63          14       16.51  \n1     69.80        83          75       20.80  \n2     75.00        96         100        5.01  \n3     87.01        75           3        2.73  \n4     54.00        93          75       19.46  ",
      "text/html": "<div>\n<style scoped>\n    .dataframe tbody tr th:only-of-type {\n        vertical-align: middle;\n    }\n\n    .dataframe tbody tr th {\n        vertical-align: top;\n    }\n\n    .dataframe thead th {\n        text-align: right;\n    }\n</style>\n<table border=\"1\" class=\"dataframe\">\n  <thead>\n    <tr style=\"text-align: right;\">\n      <th></th>\n      <th>City_ID</th>\n      <th>City</th>\n      <th>Country</th>\n      <th>Date</th>\n      <th>Lat</th>\n      <th>Lng</th>\n      <th>Max Temp</th>\n      <th>Humidity</th>\n      <th>Cloudiness</th>\n      <th>Wind Speed</th>\n    </tr>\n  </thead>\n  <tbody>\n    <tr>\n      <th>0</th>\n      <td>0</td>\n      <td>Rikitea</td>\n      <td>PF</td>\n      <td>2020-07-09 17:00:19</td>\n      <td>-23.12</td>\n      <td>-134.97</td>\n      <td>68.20</td>\n      <td>63</td>\n      <td>14</td>\n      <td>16.51</td>\n    </tr>\n    <tr>\n      <th>1</th>\n      <td>1</td>\n      <td>Saint-Pierre</td>\n      <td>RE</td>\n      <td>2020-07-09 17:00:19</td>\n      <td>-21.34</td>\n      <td>55.48</td>\n      <td>69.80</td>\n      <td>83</td>\n      <td>75</td>\n      <td>20.80</td>\n    </tr>\n    <tr>\n      <th>2</th>\n      <td>2</td>\n      <td>Katsuura</td>\n      <td>JP</td>\n      <td>2020-07-09 17:00:19</td>\n      <td>35.13</td>\n      <td>140.30</td>\n      <td>75.00</td>\n      <td>96</td>\n      <td>100</td>\n      <td>5.01</td>\n    </tr>\n    <tr>\n      <th>3</th>\n      <td>3</td>\n      <td>Albany</td>\n      <td>US</td>\n      <td>2020-07-09 16:57:22</td>\n      <td>42.60</td>\n      <td>-73.97</td>\n      <td>87.01</td>\n      <td>75</td>\n      <td>3</td>\n      <td>2.73</td>\n    </tr>\n    <tr>\n      <th>4</th>\n      <td>4</td>\n      <td>Cape Town</td>\n      <td>ZA</td>\n      <td>2020-07-09 16:57:21</td>\n      <td>-33.93</td>\n      <td>18.42</td>\n      <td>54.00</td>\n      <td>93</td>\n      <td>75</td>\n      <td>19.46</td>\n    </tr>\n  </tbody>\n</table>\n</div>"
     },
     "metadata": {},
     "execution_count": 2
    }
   ],
   "source": [
    "# Store the CSV you saved created in part one into a DataFrame.\n",
    "city_data_df = pd.read_csv(\"weather_data/cities.csv\")\n",
    "city_data_df.head()"
   ]
  },
  {
   "cell_type": "code",
   "execution_count": 3,
   "metadata": {},
   "outputs": [
    {
     "output_type": "execute_result",
     "data": {
      "text/plain": "City_ID         int64\nCity           object\nCountry        object\nDate           object\nLat           float64\nLng           float64\nMax Temp      float64\nHumidity        int64\nCloudiness      int64\nWind Speed    float64\ndtype: object"
     },
     "metadata": {},
     "execution_count": 3
    }
   ],
   "source": [
    "city_data_df.dtypes"
   ]
  },
  {
   "cell_type": "code",
   "execution_count": 4,
   "metadata": {},
   "outputs": [],
   "source": [
    "# Configure gmaps to use your Google API key.\n",
    "gmaps.configure(api_key=g_key)"
   ]
  },
  {
   "cell_type": "code",
   "execution_count": 5,
   "metadata": {},
   "outputs": [
    {
     "output_type": "display_data",
     "data": {
      "text/plain": "Figure(layout=FigureLayout(height='420px'))",
      "application/vnd.jupyter.widget-view+json": {
       "version_major": 2,
       "version_minor": 0,
       "model_id": "addf029ede254c538e7c4aa90ed839e3"
      }
     },
     "metadata": {}
    }
   ],
   "source": [
    "# Heatmap of temperature\n",
    "# Get the latitude and longitude.\n",
    "locations = city_data_df[[\"Lat\", \"Lng\"]]\n",
    "# Get the maximum temperature.\n",
    "max_temp = city_data_df[\"Max Temp\"]\n",
    "# Assign the figure variable.\n",
    "fig = gmaps.figure()\n",
    "# Assign the heatmap variable.\n",
    "heat_layer = gmaps.heatmap_layer(locations, weights=max_temp)\n",
    "# Add the heatmap layer.\n",
    "fig.add_layer(heat_layer)\n",
    "# Call the figure to plot the data.\n",
    "fig"
   ]
  },
  {
   "cell_type": "code",
   "execution_count": 6,
   "metadata": {},
   "outputs": [],
   "source": [
    "# Get the maximum temperature.\n",
    "max_temp = city_data_df[\"Max Temp\"]\n",
    "temps = []\n",
    "for temp in max_temp:\n",
    "    temps.append(max(temp, 0))"
   ]
  },
  {
   "cell_type": "code",
   "execution_count": 7,
   "metadata": {},
   "outputs": [
    {
     "output_type": "display_data",
     "data": {
      "text/plain": "Figure(layout=FigureLayout(height='420px'))",
      "application/vnd.jupyter.widget-view+json": {
       "version_major": 2,
       "version_minor": 0,
       "model_id": "da500206bab74b90a039dca3d1fbcc41"
      }
     },
     "metadata": {}
    }
   ],
   "source": [
    "# Heatmap of temperature\n",
    "# Get the latitude and longitude.\n",
    "locations = city_data_df[[\"Lat\", \"Lng\"]]\n",
    "# Get the maximum temperature.\n",
    "max_temp = city_data_df[\"Max Temp\"]\n",
    "# Assign the figure variable.\n",
    "fig = gmaps.figure(center=(30.0, 31.0), zoom_level=1.5)\n",
    "# Assign the heatmap variable.\n",
    "heat_layer = gmaps.heatmap_layer(locations, weights=temps, dissipating=False, max_intensity=300, point_radius=4)\n",
    "# Add the heatmap layer.\n",
    "fig.add_layer(heat_layer)\n",
    "# Call the figure to plot the data.\n",
    "fig"
   ]
  },
  {
   "cell_type": "code",
   "execution_count": 8,
   "metadata": {},
   "outputs": [
    {
     "output_type": "display_data",
     "data": {
      "text/plain": "Figure(layout=FigureLayout(height='420px'))",
      "application/vnd.jupyter.widget-view+json": {
       "version_major": 2,
       "version_minor": 0,
       "model_id": "ec8a495890194d699eb0629baf5f46b6"
      }
     },
     "metadata": {}
    }
   ],
   "source": [
    "\n",
    "# Heatmap of percent humidity\n",
    "locations = city_data_df[[\"Lat\", \"Lng\"]]\n",
    "humidity = city_data_df[\"Humidity\"]\n",
    "fig = gmaps.figure(center=(30.0, 31.0), zoom_level=1.5)\n",
    "heat_layer = gmaps.heatmap_layer(locations, weights=humidity, dissipating=False, max_intensity=300, point_radius=4)\n",
    "\n",
    "fig.add_layer(heat_layer)\n",
    "# Call the figure to plot the data.\n",
    "fig"
   ]
  },
  {
   "cell_type": "code",
   "execution_count": 9,
   "metadata": {},
   "outputs": [
    {
     "output_type": "display_data",
     "data": {
      "text/plain": "Figure(layout=FigureLayout(height='420px'))",
      "application/vnd.jupyter.widget-view+json": {
       "version_major": 2,
       "version_minor": 0,
       "model_id": "7e5025eb509e4c4e95e6a59b898be1e7"
      }
     },
     "metadata": {}
    }
   ],
   "source": [
    "# Heatmap of percent cloudiness\n",
    "locations = city_data_df[[\"Lat\", \"Lng\"]]\n",
    "clouds = city_data_df[\"Cloudiness\"]\n",
    "fig = gmaps.figure(center=(30.0, 31.0), zoom_level=1.5)\n",
    "heat_layer = gmaps.heatmap_layer(locations, weights=clouds, dissipating=False, max_intensity=300, point_radius=4)\n",
    "fig.add_layer(heat_layer)\n",
    "# Call the figure to plot the data.\n",
    "fig"
   ]
  },
  {
   "cell_type": "code",
   "execution_count": 31,
   "metadata": {},
   "outputs": [
    {
     "output_type": "display_data",
     "data": {
      "text/plain": "Figure(layout=FigureLayout(height='420px'))",
      "application/vnd.jupyter.widget-view+json": {
       "version_major": 2,
       "version_minor": 0,
       "model_id": "162e3ab12e2d4909b9cef37d401439d0"
      }
     },
     "metadata": {}
    }
   ],
   "source": [
    "# Heatmap of wind speed heatmap\n",
    "locations = city_data_df[[\"Lat\", \"Lng\"]]\n",
    "wind = city_data_df[\"Wind Speed\"]\n",
    "fig = gmaps.figure(center=(30.0, 31.0), zoom_level=1.5)\n",
    "heat_layer = gmaps.heatmap_layer(locations, weights=wind, dissipating=False, max_intensity=300, point_radius=4)\n",
    "fig.add_layer(heat_layer)\n",
    "# Call the figure to plot the data.\n",
    "fig"
   ]
  },
  {
   "cell_type": "code",
   "execution_count": 32,
   "metadata": {},
   "outputs": [],
   "source": [
    "# Ask the customer to add a minimum and maximum temperature value.\n",
    "min_temp = float(input(\"What is the minimum temperature you would like for your trip? \"))\n",
    "max_temp = float(input(\"What is the maximum temperature you would like for your trip? \"))"
   ]
  },
  {
   "cell_type": "code",
   "execution_count": 33,
   "metadata": {},
   "outputs": [
    {
     "output_type": "execute_result",
     "data": {
      "text/plain": "    City_ID            City Country                 Date    Lat     Lng  \\\n2         2        Katsuura      JP  2020-07-09 17:00:19  35.13  140.30   \n3         3          Albany      US  2020-07-09 16:57:22  42.60  -73.97   \n6         6       Hithadhoo      MV  2020-07-09 17:00:19  -0.60   73.08   \n13       13    Ponta Do Sol      PT  2020-07-09 17:00:21  32.67  -17.10   \n16       16     Sakaiminato      JP  2020-07-09 17:00:21  35.55  133.23   \n18       18          Atuona      PF  2020-07-09 17:00:22  -9.80 -139.03   \n24       24         Iralaya      HN  2020-07-09 17:00:23  15.00  -83.23   \n25       25           Kapaa      US  2020-07-09 17:00:23  22.08 -159.32   \n27       27         Peniche      PT  2020-07-09 17:00:23  39.36   -9.38   \n32       32  Guerrero Negro      MX  2020-07-09 17:00:24  27.98 -114.06   \n\n    Max Temp  Humidity  Cloudiness  Wind Speed  \n2      75.00        96         100        5.01  \n3      87.01        75           3        2.73  \n6      85.21        68         100        3.51  \n13     75.20        69          20        6.93  \n16     77.00        88          75        2.24  \n18     79.39        76          11       13.98  \n24     75.20       100          90        7.92  \n25     77.00        83          90       14.99  \n27     79.00        74           0       15.01  \n32     76.03        53          49        6.82  ",
      "text/html": "<div>\n<style scoped>\n    .dataframe tbody tr th:only-of-type {\n        vertical-align: middle;\n    }\n\n    .dataframe tbody tr th {\n        vertical-align: top;\n    }\n\n    .dataframe thead th {\n        text-align: right;\n    }\n</style>\n<table border=\"1\" class=\"dataframe\">\n  <thead>\n    <tr style=\"text-align: right;\">\n      <th></th>\n      <th>City_ID</th>\n      <th>City</th>\n      <th>Country</th>\n      <th>Date</th>\n      <th>Lat</th>\n      <th>Lng</th>\n      <th>Max Temp</th>\n      <th>Humidity</th>\n      <th>Cloudiness</th>\n      <th>Wind Speed</th>\n    </tr>\n  </thead>\n  <tbody>\n    <tr>\n      <th>2</th>\n      <td>2</td>\n      <td>Katsuura</td>\n      <td>JP</td>\n      <td>2020-07-09 17:00:19</td>\n      <td>35.13</td>\n      <td>140.30</td>\n      <td>75.00</td>\n      <td>96</td>\n      <td>100</td>\n      <td>5.01</td>\n    </tr>\n    <tr>\n      <th>3</th>\n      <td>3</td>\n      <td>Albany</td>\n      <td>US</td>\n      <td>2020-07-09 16:57:22</td>\n      <td>42.60</td>\n      <td>-73.97</td>\n      <td>87.01</td>\n      <td>75</td>\n      <td>3</td>\n      <td>2.73</td>\n    </tr>\n    <tr>\n      <th>6</th>\n      <td>6</td>\n      <td>Hithadhoo</td>\n      <td>MV</td>\n      <td>2020-07-09 17:00:19</td>\n      <td>-0.60</td>\n      <td>73.08</td>\n      <td>85.21</td>\n      <td>68</td>\n      <td>100</td>\n      <td>3.51</td>\n    </tr>\n    <tr>\n      <th>13</th>\n      <td>13</td>\n      <td>Ponta Do Sol</td>\n      <td>PT</td>\n      <td>2020-07-09 17:00:21</td>\n      <td>32.67</td>\n      <td>-17.10</td>\n      <td>75.20</td>\n      <td>69</td>\n      <td>20</td>\n      <td>6.93</td>\n    </tr>\n    <tr>\n      <th>16</th>\n      <td>16</td>\n      <td>Sakaiminato</td>\n      <td>JP</td>\n      <td>2020-07-09 17:00:21</td>\n      <td>35.55</td>\n      <td>133.23</td>\n      <td>77.00</td>\n      <td>88</td>\n      <td>75</td>\n      <td>2.24</td>\n    </tr>\n    <tr>\n      <th>18</th>\n      <td>18</td>\n      <td>Atuona</td>\n      <td>PF</td>\n      <td>2020-07-09 17:00:22</td>\n      <td>-9.80</td>\n      <td>-139.03</td>\n      <td>79.39</td>\n      <td>76</td>\n      <td>11</td>\n      <td>13.98</td>\n    </tr>\n    <tr>\n      <th>24</th>\n      <td>24</td>\n      <td>Iralaya</td>\n      <td>HN</td>\n      <td>2020-07-09 17:00:23</td>\n      <td>15.00</td>\n      <td>-83.23</td>\n      <td>75.20</td>\n      <td>100</td>\n      <td>90</td>\n      <td>7.92</td>\n    </tr>\n    <tr>\n      <th>25</th>\n      <td>25</td>\n      <td>Kapaa</td>\n      <td>US</td>\n      <td>2020-07-09 17:00:23</td>\n      <td>22.08</td>\n      <td>-159.32</td>\n      <td>77.00</td>\n      <td>83</td>\n      <td>90</td>\n      <td>14.99</td>\n    </tr>\n    <tr>\n      <th>27</th>\n      <td>27</td>\n      <td>Peniche</td>\n      <td>PT</td>\n      <td>2020-07-09 17:00:23</td>\n      <td>39.36</td>\n      <td>-9.38</td>\n      <td>79.00</td>\n      <td>74</td>\n      <td>0</td>\n      <td>15.01</td>\n    </tr>\n    <tr>\n      <th>32</th>\n      <td>32</td>\n      <td>Guerrero Negro</td>\n      <td>MX</td>\n      <td>2020-07-09 17:00:24</td>\n      <td>27.98</td>\n      <td>-114.06</td>\n      <td>76.03</td>\n      <td>53</td>\n      <td>49</td>\n      <td>6.82</td>\n    </tr>\n  </tbody>\n</table>\n</div>"
     },
     "metadata": {},
     "execution_count": 33
    }
   ],
   "source": [
    "# Filter the dataset to find the cities that fit the criteria.\n",
    "preferred_cities_df = city_data_df.loc[(city_data_df[\"Max Temp\"] <= max_temp) & \\\n",
    "                                       (city_data_df[\"Max Temp\"] >= min_temp)]\n",
    "preferred_cities_df.head(10)"
   ]
  },
  {
   "cell_type": "code",
   "execution_count": 34,
   "metadata": {},
   "outputs": [
    {
     "output_type": "execute_result",
     "data": {
      "text/plain": "City_ID       225\nCity          225\nCountry       225\nDate          225\nLat           225\nLng           225\nMax Temp      225\nHumidity      225\nCloudiness    225\nWind Speed    225\ndtype: int64"
     },
     "metadata": {},
     "execution_count": 34
    }
   ],
   "source": [
    "preferred_cities_df.count()\n"
   ]
  },
  {
   "cell_type": "code",
   "execution_count": 35,
   "metadata": {},
   "outputs": [
    {
     "output_type": "execute_result",
     "data": {
      "text/plain": "              City Country  Max Temp    Lat     Lng Hotel Name\n2         Katsuura      JP     75.00  35.13  140.30           \n3           Albany      US     87.01  42.60  -73.97           \n6        Hithadhoo      MV     85.21  -0.60   73.08           \n13    Ponta Do Sol      PT     75.20  32.67  -17.10           \n16     Sakaiminato      JP     77.00  35.55  133.23           \n18          Atuona      PF     79.39  -9.80 -139.03           \n24         Iralaya      HN     75.20  15.00  -83.23           \n25           Kapaa      US     77.00  22.08 -159.32           \n27         Peniche      PT     79.00  39.36   -9.38           \n32  Guerrero Negro      MX     76.03  27.98 -114.06           ",
      "text/html": "<div>\n<style scoped>\n    .dataframe tbody tr th:only-of-type {\n        vertical-align: middle;\n    }\n\n    .dataframe tbody tr th {\n        vertical-align: top;\n    }\n\n    .dataframe thead th {\n        text-align: right;\n    }\n</style>\n<table border=\"1\" class=\"dataframe\">\n  <thead>\n    <tr style=\"text-align: right;\">\n      <th></th>\n      <th>City</th>\n      <th>Country</th>\n      <th>Max Temp</th>\n      <th>Lat</th>\n      <th>Lng</th>\n      <th>Hotel Name</th>\n    </tr>\n  </thead>\n  <tbody>\n    <tr>\n      <th>2</th>\n      <td>Katsuura</td>\n      <td>JP</td>\n      <td>75.00</td>\n      <td>35.13</td>\n      <td>140.30</td>\n      <td></td>\n    </tr>\n    <tr>\n      <th>3</th>\n      <td>Albany</td>\n      <td>US</td>\n      <td>87.01</td>\n      <td>42.60</td>\n      <td>-73.97</td>\n      <td></td>\n    </tr>\n    <tr>\n      <th>6</th>\n      <td>Hithadhoo</td>\n      <td>MV</td>\n      <td>85.21</td>\n      <td>-0.60</td>\n      <td>73.08</td>\n      <td></td>\n    </tr>\n    <tr>\n      <th>13</th>\n      <td>Ponta Do Sol</td>\n      <td>PT</td>\n      <td>75.20</td>\n      <td>32.67</td>\n      <td>-17.10</td>\n      <td></td>\n    </tr>\n    <tr>\n      <th>16</th>\n      <td>Sakaiminato</td>\n      <td>JP</td>\n      <td>77.00</td>\n      <td>35.55</td>\n      <td>133.23</td>\n      <td></td>\n    </tr>\n    <tr>\n      <th>18</th>\n      <td>Atuona</td>\n      <td>PF</td>\n      <td>79.39</td>\n      <td>-9.80</td>\n      <td>-139.03</td>\n      <td></td>\n    </tr>\n    <tr>\n      <th>24</th>\n      <td>Iralaya</td>\n      <td>HN</td>\n      <td>75.20</td>\n      <td>15.00</td>\n      <td>-83.23</td>\n      <td></td>\n    </tr>\n    <tr>\n      <th>25</th>\n      <td>Kapaa</td>\n      <td>US</td>\n      <td>77.00</td>\n      <td>22.08</td>\n      <td>-159.32</td>\n      <td></td>\n    </tr>\n    <tr>\n      <th>27</th>\n      <td>Peniche</td>\n      <td>PT</td>\n      <td>79.00</td>\n      <td>39.36</td>\n      <td>-9.38</td>\n      <td></td>\n    </tr>\n    <tr>\n      <th>32</th>\n      <td>Guerrero Negro</td>\n      <td>MX</td>\n      <td>76.03</td>\n      <td>27.98</td>\n      <td>-114.06</td>\n      <td></td>\n    </tr>\n  </tbody>\n</table>\n</div>"
     },
     "metadata": {},
     "execution_count": 35
    }
   ],
   "source": [
    "# Create DataFrame called hotel_df to store hotel names along with city, country, max temp, and coordinates.\n",
    "hotel_df = preferred_cities_df[[\"City\", \"Country\", \"Max Temp\", \"Lat\", \"Lng\"]].copy()\n",
    "hotel_df[\"Hotel Name\"] = \"\"\n",
    "hotel_df.head(10)"
   ]
  },
  {
   "cell_type": "code",
   "execution_count": 36,
   "metadata": {},
   "outputs": [],
   "source": [
    "# Set parameters to search for a hotel.\n",
    "params = {\n",
    "    \"radius\": 5000,\n",
    "    \"type\": \"lodging\",\n",
    "    \"key\": g_key\n",
    "}"
   ]
  },
  {
   "cell_type": "code",
   "execution_count": 37,
   "metadata": {
    "tags": []
   },
   "outputs": [
    {
     "output_type": "stream",
     "name": "stdout",
     "text": "Hotel not found... skipping.\nHotel not found... skipping.\nHotel not found... skipping.\nHotel not found... skipping.\nHotel not found... skipping.\nHotel not found... skipping.\nHotel not found... skipping.\nHotel not found... skipping.\nHotel not found... skipping.\nHotel not found... skipping.\nHotel not found... skipping.\nHotel not found... skipping.\nHotel not found... skipping.\nHotel not found... skipping.\nHotel not found... skipping.\n"
    }
   ],
   "source": [
    "# Iterate through the DataFrame.\n",
    "for index, row in hotel_df.iterrows():\n",
    "    # Get the latitude and longitude.\n",
    "    lat = row[\"Lat\"]\n",
    "    lng = row[\"Lng\"]\n",
    "\n",
    "    # Add the latitude and longitude to location key for the params dictionary.\n",
    "    params[\"location\"] = f\"{lat},{lng}\"\n",
    "\n",
    "    # Use the search term: \"lodging\" and our latitude and longitude.\n",
    "    base_url = \"https://maps.googleapis.com/maps/api/place/nearbysearch/json\"\n",
    "    # Make request and get the JSON data from the search.\n",
    "    hotels = requests.get(base_url, params=params).json()\n",
    "    # Grab the first hotel from the results and store the name.\n",
    "    try:\n",
    "        hotel_df.loc[index, \"Hotel Name\"] = hotels[\"results\"][0][\"name\"]\n",
    "    except (IndexError):\n",
    "        print(\"Hotel not found... skipping.\")"
   ]
  },
  {
   "cell_type": "code",
   "execution_count": 38,
   "metadata": {},
   "outputs": [
    {
     "output_type": "execute_result",
     "data": {
      "text/plain": "              City Country  Max Temp    Lat     Lng  \\\n2         Katsuura      JP     75.00  35.13  140.30   \n3           Albany      US     87.01  42.60  -73.97   \n6        Hithadhoo      MV     85.21  -0.60   73.08   \n13    Ponta Do Sol      PT     75.20  32.67  -17.10   \n16     Sakaiminato      JP     77.00  35.55  133.23   \n18          Atuona      PF     79.39  -9.80 -139.03   \n24         Iralaya      HN     75.20  15.00  -83.23   \n25           Kapaa      US     77.00  22.08 -159.32   \n27         Peniche      PT     79.00  39.36   -9.38   \n32  Guerrero Negro      MX     76.03  27.98 -114.06   \n\n                                Hotel Name  \n2                  Katsuura Hotel Mikazuki  \n3                                           \n6                        Scoop Guest House  \n13                          Hotel do Campo  \n16                               味処・民宿 まつや  \n18                             Villa Enata  \n24                 Iglesia morava renovada  \n25  Sheraton Kauai Resort at Coconut Beach  \n27                  Hotel Star inn Peniche  \n32            Casa Laguna, Bed & Breakfast  ",
      "text/html": "<div>\n<style scoped>\n    .dataframe tbody tr th:only-of-type {\n        vertical-align: middle;\n    }\n\n    .dataframe tbody tr th {\n        vertical-align: top;\n    }\n\n    .dataframe thead th {\n        text-align: right;\n    }\n</style>\n<table border=\"1\" class=\"dataframe\">\n  <thead>\n    <tr style=\"text-align: right;\">\n      <th></th>\n      <th>City</th>\n      <th>Country</th>\n      <th>Max Temp</th>\n      <th>Lat</th>\n      <th>Lng</th>\n      <th>Hotel Name</th>\n    </tr>\n  </thead>\n  <tbody>\n    <tr>\n      <th>2</th>\n      <td>Katsuura</td>\n      <td>JP</td>\n      <td>75.00</td>\n      <td>35.13</td>\n      <td>140.30</td>\n      <td>Katsuura Hotel Mikazuki</td>\n    </tr>\n    <tr>\n      <th>3</th>\n      <td>Albany</td>\n      <td>US</td>\n      <td>87.01</td>\n      <td>42.60</td>\n      <td>-73.97</td>\n      <td></td>\n    </tr>\n    <tr>\n      <th>6</th>\n      <td>Hithadhoo</td>\n      <td>MV</td>\n      <td>85.21</td>\n      <td>-0.60</td>\n      <td>73.08</td>\n      <td>Scoop Guest House</td>\n    </tr>\n    <tr>\n      <th>13</th>\n      <td>Ponta Do Sol</td>\n      <td>PT</td>\n      <td>75.20</td>\n      <td>32.67</td>\n      <td>-17.10</td>\n      <td>Hotel do Campo</td>\n    </tr>\n    <tr>\n      <th>16</th>\n      <td>Sakaiminato</td>\n      <td>JP</td>\n      <td>77.00</td>\n      <td>35.55</td>\n      <td>133.23</td>\n      <td>味処・民宿 まつや</td>\n    </tr>\n    <tr>\n      <th>18</th>\n      <td>Atuona</td>\n      <td>PF</td>\n      <td>79.39</td>\n      <td>-9.80</td>\n      <td>-139.03</td>\n      <td>Villa Enata</td>\n    </tr>\n    <tr>\n      <th>24</th>\n      <td>Iralaya</td>\n      <td>HN</td>\n      <td>75.20</td>\n      <td>15.00</td>\n      <td>-83.23</td>\n      <td>Iglesia morava renovada</td>\n    </tr>\n    <tr>\n      <th>25</th>\n      <td>Kapaa</td>\n      <td>US</td>\n      <td>77.00</td>\n      <td>22.08</td>\n      <td>-159.32</td>\n      <td>Sheraton Kauai Resort at Coconut Beach</td>\n    </tr>\n    <tr>\n      <th>27</th>\n      <td>Peniche</td>\n      <td>PT</td>\n      <td>79.00</td>\n      <td>39.36</td>\n      <td>-9.38</td>\n      <td>Hotel Star inn Peniche</td>\n    </tr>\n    <tr>\n      <th>32</th>\n      <td>Guerrero Negro</td>\n      <td>MX</td>\n      <td>76.03</td>\n      <td>27.98</td>\n      <td>-114.06</td>\n      <td>Casa Laguna, Bed &amp; Breakfast</td>\n    </tr>\n  </tbody>\n</table>\n</div>"
     },
     "metadata": {},
     "execution_count": 38
    }
   ],
   "source": [
    "hotel_df.head(10)"
   ]
  },
  {
   "cell_type": "code",
   "execution_count": 39,
   "metadata": {},
   "outputs": [
    {
     "output_type": "display_data",
     "data": {
      "text/plain": "Figure(layout=FigureLayout(height='420px'))",
      "application/vnd.jupyter.widget-view+json": {
       "version_major": 2,
       "version_minor": 0,
       "model_id": "9eb5ec0f65534b9790ace58bab211ce0"
      }
     },
     "metadata": {}
    }
   ],
   "source": [
    "# Add a heatmap of temperature for the vacation spots.\n",
    "locations = hotel_df[[\"Lat\", \"Lng\"]]\n",
    "max_temp = hotel_df[\"Max Temp\"]\n",
    "fig = gmaps.figure(center=(30.0, 31.0), zoom_level=1.5)\n",
    "heat_layer = gmaps.heatmap_layer(locations, weights=max_temp, dissipating=False,\n",
    "             max_intensity=300, point_radius=4)\n",
    "\n",
    "fig.add_layer(heat_layer)\n",
    "# Call the figure to plot the data.\n",
    "fig"
   ]
  },
  {
   "cell_type": "code",
   "execution_count": 40,
   "metadata": {
    "scrolled": true
   },
   "outputs": [
    {
     "output_type": "display_data",
     "data": {
      "text/plain": "Figure(layout=FigureLayout(height='420px'))",
      "application/vnd.jupyter.widget-view+json": {
       "version_major": 2,
       "version_minor": 0,
       "model_id": "d2fe0bb64dc54a0cb6f7d2c8ac80a682"
      }
     },
     "metadata": {}
    }
   ],
   "source": [
    "# Add a heatmap of temperature for the vacation spots and marker for each city.\n",
    "locations = hotel_df[[\"Lat\", \"Lng\"]]\n",
    "max_temp = hotel_df[\"Max Temp\"]\n",
    "fig = gmaps.figure(center=(30.0, 31.0), zoom_level=1.5)\n",
    "heat_layer = gmaps.heatmap_layer(locations, weights=max_temp, \n",
    "             dissipating=False, max_intensity=300, point_radius=4)\n",
    "marker_layer = gmaps.marker_layer(locations)\n",
    "fig.add_layer(heat_layer)\n",
    "fig.add_layer(marker_layer)\n",
    "# Call the figure to plot the data.\n",
    "fig"
   ]
  },
  {
   "cell_type": "code",
   "execution_count": 41,
   "metadata": {},
   "outputs": [],
   "source": [
    "info_box_template = \"\"\"\n",
    "<dl>\n",
    "<dt>Hotel Name</dt><dd>{Hotel Name}</dd>\n",
    "<dt>City</dt><dd>{City}</dd>\n",
    "<dt>Country</dt><dd>{Country}</dd>\n",
    "<dt>Max Temp</dt><dd>{Max Temp} °F</dd>\n",
    "</dl>\n",
    "\"\"\""
   ]
  },
  {
   "cell_type": "code",
   "execution_count": 42,
   "metadata": {},
   "outputs": [],
   "source": [
    "# Store the DataFrame Row.\n",
    "hotel_info = [info_box_template.format(**row) for index, row in hotel_df.iterrows()]\n"
   ]
  },
  {
   "cell_type": "code",
   "execution_count": 43,
   "metadata": {},
   "outputs": [
    {
     "output_type": "display_data",
     "data": {
      "text/plain": "Figure(layout=FigureLayout(height='420px'))",
      "application/vnd.jupyter.widget-view+json": {
       "version_major": 2,
       "version_minor": 0,
       "model_id": "147de941e2584e49a85239fe7c28e025"
      }
     },
     "metadata": {}
    }
   ],
   "source": [
    "# Add a heatmap of temperature for the vacation spots and a pop-up marker for each city.\n",
    "locations = hotel_df[[\"Lat\", \"Lng\"]]\n",
    "max_temp = hotel_df[\"Max Temp\"]\n",
    "fig = gmaps.figure(center=(30.0, 31.0), zoom_level=1.5)\n",
    "heat_layer = gmaps.heatmap_layer(locations, weights=max_temp,dissipating=False,\n",
    "             max_intensity=300, point_radius=4)\n",
    "marker_layer = gmaps.marker_layer(locations, info_box_content=hotel_info)\n",
    "fig.add_layer(heat_layer)\n",
    "fig.add_layer(marker_layer)\n",
    "\n",
    "# Call the figure to plot the data.\n",
    "fig"
   ]
  },
  {
   "cell_type": "code",
   "execution_count": null,
   "metadata": {},
   "outputs": [],
   "source": []
  },
  {
   "cell_type": "code",
   "execution_count": null,
   "metadata": {},
   "outputs": [],
   "source": []
  }
 ],
 "metadata": {
  "kernelspec": {
   "display_name": "PythonData",
   "language": "python",
   "name": "pythondata"
  },
  "language_info": {
   "codemirror_mode": {
    "name": "ipython",
    "version": 3
   },
   "file_extension": ".py",
   "mimetype": "text/x-python",
   "name": "python",
   "nbconvert_exporter": "python",
   "pygments_lexer": "ipython3",
   "version": "3.7.7-final"
  }
 },
 "nbformat": 4,
 "nbformat_minor": 4
}