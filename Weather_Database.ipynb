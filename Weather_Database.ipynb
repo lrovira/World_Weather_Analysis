{
 "cells": [
  {
   "cell_type": "code",
   "execution_count": 1,
   "metadata": {},
   "outputs": [],
   "source": [
    "#Challenge 6 (Import the dependencies)\n",
    "import pandas as pd\n",
    "import matplotlib.pyplot as plt\n",
    "import numpy as np"
   ]
  },
  {
   "cell_type": "code",
   "execution_count": 2,
   "metadata": {},
   "outputs": [
    {
     "output_type": "execute_result",
     "data": {
      "text/plain": "<zip at 0x17a7e485a08>"
     },
     "metadata": {},
     "execution_count": 2
    }
   ],
   "source": [
    "#Challenge 6 Create a set of random latitude and longitude combinations.\n",
    "lats = np.random.uniform(low=-90.000, high=90.000, size=1500)\n",
    "lngs = np.random.uniform(low=-180.000, high=180.000, size=1500)\n",
    "lat_lngs = zip(lats, lngs)\n",
    "lat_lngs"
   ]
  },
  {
   "cell_type": "code",
   "execution_count": 3,
   "metadata": {},
   "outputs": [],
   "source": [
    "#Challenge 6 (latitudes and longitudes)\n",
    "coordinates = list(lat_lngs)"
   ]
  },
  {
   "cell_type": "code",
   "execution_count": 4,
   "metadata": {},
   "outputs": [],
   "source": [
    "#Challenge 6 (Citipy module)\n",
    "from citipy import citipy"
   ]
  },
  {
   "cell_type": "code",
   "execution_count": 5,
   "metadata": {},
   "outputs": [
    {
     "output_type": "execute_result",
     "data": {
      "text/plain": "618"
     },
     "metadata": {},
     "execution_count": 5
    }
   ],
   "source": [
    "# Challanege 6 (Create a list for holding the cities)   \n",
    "cities = []\n",
    "# Identify the nearest city \n",
    "for coordinate in coordinates:\n",
    "    city = citipy.nearest_city(coordinate[0], coordinate[1]).city_name\n",
    "    \n",
    "    # If the city is unique\n",
    "    if city not in cities:\n",
    "        cities.append(city)\n",
    "# Print the city \n",
    "len(cities)"
   ]
  },
  {
   "cell_type": "code",
   "execution_count": 6,
   "metadata": {},
   "outputs": [],
   "source": [
    "# Challenge 6 Datetime Library  \n",
    "from datetime import datetime"
   ]
  },
  {
   "cell_type": "code",
   "execution_count": 7,
   "metadata": {},
   "outputs": [],
   "source": [
    "#Challenge 6 Import the requests library.\n",
    "import requests\n",
    "\n",
    "# Import the API key.\n",
    "from config import weather_api_key"
   ]
  },
  {
   "cell_type": "code",
   "execution_count": 8,
   "metadata": {
    "tags": []
   },
   "outputs": [
    {
     "output_type": "stream",
     "name": "stdout",
     "text": "http://api.openweathermap.org/data/2.5/weather?units=Imperial&APPID=a9ab1b9d23ce1f4f0e590ea8c68b899b\n"
    }
   ],
   "source": [
    "#Starting URL for Weather Map API Call.\n",
    "url = \"http://api.openweathermap.org/data/2.5/weather?units=Imperial&APPID=\" + weather_api_key\n",
    "print(url)"
   ]
  },
  {
   "cell_type": "code",
   "execution_count": 9,
   "metadata": {
    "tags": [
     "outputPrepend"
    ]
   },
   "outputs": [
    {
     "output_type": "stream",
     "name": "stdout",
     "text": "ik\nProcessing Record 16 of Set 4 | san andres\nProcessing Record 17 of Set 4 | denpasar\nProcessing Record 18 of Set 4 | kongolo\nProcessing Record 19 of Set 4 | naze\nProcessing Record 20 of Set 4 | ituango\nProcessing Record 21 of Set 4 | kamenskoye\nCity not found. Skipping...\nProcessing Record 22 of Set 4 | thompson\nProcessing Record 23 of Set 4 | nuuk\nProcessing Record 24 of Set 4 | solovetskiy\nCity not found. Skipping...\nProcessing Record 25 of Set 4 | lavrentiya\nProcessing Record 26 of Set 4 | puerto colombia\nProcessing Record 27 of Set 4 | clyde river\nProcessing Record 28 of Set 4 | luderitz\nProcessing Record 29 of Set 4 | hamilton\nProcessing Record 30 of Set 4 | fukue\nProcessing Record 31 of Set 4 | akyab\nProcessing Record 32 of Set 4 | shelburne\nProcessing Record 33 of Set 4 | almeria\nProcessing Record 34 of Set 4 | sao filipe\nProcessing Record 35 of Set 4 | airai\nProcessing Record 36 of Set 4 | zelenoborsk\nProcessing Record 37 of Set 4 | hualmay\nProcessing Record 38 of Set 4 | pangody\nProcessing Record 39 of Set 4 | acapulco\nProcessing Record 40 of Set 4 | grand gaube\nProcessing Record 41 of Set 4 | attawapiskat\nCity not found. Skipping...\nProcessing Record 42 of Set 4 | guilin\nProcessing Record 43 of Set 4 | umm durman\nCity not found. Skipping...\nProcessing Record 44 of Set 4 | tsihombe\nCity not found. Skipping...\nProcessing Record 45 of Set 4 | henties bay\nProcessing Record 46 of Set 4 | chernyshevskiy\nProcessing Record 47 of Set 4 | sokolo\nProcessing Record 48 of Set 4 | belushya guba\nCity not found. Skipping...\nProcessing Record 49 of Set 4 | kavieng\nProcessing Record 50 of Set 4 | gat\nProcessing Record 1 of Set 5 | ola\nProcessing Record 2 of Set 5 | pinawa\nProcessing Record 3 of Set 5 | hondagua\nProcessing Record 4 of Set 5 | arica\nProcessing Record 5 of Set 5 | iskateley\nProcessing Record 6 of Set 5 | husavik\nProcessing Record 7 of Set 5 | spaichingen\nProcessing Record 8 of Set 5 | petropavlovsk-kamchatskiy\nProcessing Record 9 of Set 5 | norman wells\nProcessing Record 10 of Set 5 | hvolsvollur\nProcessing Record 11 of Set 5 | srandakan\nProcessing Record 12 of Set 5 | arraial do cabo\nProcessing Record 13 of Set 5 | russell\nProcessing Record 14 of Set 5 | yashan\nProcessing Record 15 of Set 5 | vaitape\nProcessing Record 16 of Set 5 | castro\nProcessing Record 17 of Set 5 | coronado\nProcessing Record 18 of Set 5 | qianan\nProcessing Record 19 of Set 5 | tecoanapa\nProcessing Record 20 of Set 5 | oriximina\nProcessing Record 21 of Set 5 | port shepstone\nProcessing Record 22 of Set 5 | saint-philippe\nProcessing Record 23 of Set 5 | prince rupert\nProcessing Record 24 of Set 5 | noumea\nProcessing Record 25 of Set 5 | tuatapere\nProcessing Record 26 of Set 5 | roebourne\nProcessing Record 27 of Set 5 | chokurdakh\nProcessing Record 28 of Set 5 | ometepec\nProcessing Record 29 of Set 5 | apomu\nProcessing Record 30 of Set 5 | khorramabad\nProcessing Record 31 of Set 5 | awjilah\nProcessing Record 32 of Set 5 | butaritari\nProcessing Record 33 of Set 5 | lata\nProcessing Record 34 of Set 5 | yunyang\nProcessing Record 35 of Set 5 | walvis bay\nProcessing Record 36 of Set 5 | barrancabermeja\nProcessing Record 37 of Set 5 | kargasok\nProcessing Record 38 of Set 5 | saint-pierre\nProcessing Record 39 of Set 5 | cap malheureux\nProcessing Record 40 of Set 5 | tonder\nProcessing Record 41 of Set 5 | kuminskiy\nProcessing Record 42 of Set 5 | tawkar\nCity not found. Skipping...\nProcessing Record 43 of Set 5 | faanui\nProcessing Record 44 of Set 5 | tiksi\nProcessing Record 45 of Set 5 | kokstad\nProcessing Record 46 of Set 5 | haines junction\nProcessing Record 47 of Set 5 | tallahassee\nProcessing Record 48 of Set 5 | ponta do sol\nProcessing Record 49 of Set 5 | nizhneyansk\nCity not found. Skipping...\nProcessing Record 50 of Set 5 | bambous virieux\nProcessing Record 1 of Set 6 | gubkinskiy\nProcessing Record 2 of Set 6 | trelew\nProcessing Record 3 of Set 6 | gorno-chuyskiy\nCity not found. Skipping...\nProcessing Record 4 of Set 6 | illoqqortoormiut\nCity not found. Skipping...\nProcessing Record 5 of Set 6 | geraldton\nProcessing Record 6 of Set 6 | hun\nProcessing Record 7 of Set 6 | mecca\nProcessing Record 8 of Set 6 | sakakah\nProcessing Record 9 of Set 6 | coahuayana\nProcessing Record 10 of Set 6 | codrington\nProcessing Record 11 of Set 6 | port blair\nProcessing Record 12 of Set 6 | hami\nProcessing Record 13 of Set 6 | khorixas\nProcessing Record 14 of Set 6 | qui nhon\nProcessing Record 15 of Set 6 | weston-super-mare\nProcessing Record 16 of Set 6 | sri aman\nProcessing Record 17 of Set 6 | bathsheba\nProcessing Record 18 of Set 6 | bodrum\nProcessing Record 19 of Set 6 | lethem\nProcessing Record 20 of Set 6 | oktyabrskiy\nProcessing Record 21 of Set 6 | tsaratanana\nProcessing Record 22 of Set 6 | hanzhong\nProcessing Record 23 of Set 6 | havre-saint-pierre\nProcessing Record 24 of Set 6 | upernavik\nProcessing Record 25 of Set 6 | chinsali\nProcessing Record 26 of Set 6 | dayong\nProcessing Record 27 of Set 6 | nanortalik\nProcessing Record 28 of Set 6 | bandar-e lengeh\nProcessing Record 29 of Set 6 | tumannyy\nCity not found. Skipping...\nProcessing Record 30 of Set 6 | narasannapeta\nProcessing Record 31 of Set 6 | bria\nProcessing Record 32 of Set 6 | grand river south east\nCity not found. Skipping...\nProcessing Record 33 of Set 6 | kohima\nProcessing Record 34 of Set 6 | constitucion\nProcessing Record 35 of Set 6 | saldanha\nProcessing Record 36 of Set 6 | college\nProcessing Record 37 of Set 6 | san patricio\nProcessing Record 38 of Set 6 | salalah\nProcessing Record 39 of Set 6 | berdigestyakh\nProcessing Record 40 of Set 6 | isangel\nProcessing Record 41 of Set 6 | moa\nProcessing Record 42 of Set 6 | chuy\nProcessing Record 43 of Set 6 | benton harbor\nProcessing Record 44 of Set 6 | rio grande\nProcessing Record 45 of Set 6 | lagos\nProcessing Record 46 of Set 6 | abu dhabi\nProcessing Record 47 of Set 6 | ust-kuyga\nProcessing Record 48 of Set 6 | rosetta\nProcessing Record 49 of Set 6 | krasnoselkup\nProcessing Record 50 of Set 6 | upata\nProcessing Record 1 of Set 7 | palu\nProcessing Record 2 of Set 7 | marion\nProcessing Record 3 of Set 7 | mbandaka\nProcessing Record 4 of Set 7 | sao joao da barra\nProcessing Record 5 of Set 7 | vila franca do campo\nProcessing Record 6 of Set 7 | nizwa\nProcessing Record 7 of Set 7 | lebu\nProcessing Record 8 of Set 7 | coihaique\nProcessing Record 9 of Set 7 | tungkang\nCity not found. Skipping...\nProcessing Record 10 of Set 7 | bonthe\nProcessing Record 11 of Set 7 | banja luka\nProcessing Record 12 of Set 7 | yushan\nProcessing Record 13 of Set 7 | arlit\nProcessing Record 14 of Set 7 | galiwinku\nCity not found. Skipping...\nProcessing Record 15 of Set 7 | kjollefjord\nProcessing Record 16 of Set 7 | ixtapa\nProcessing Record 17 of Set 7 | roma\nProcessing Record 18 of Set 7 | batagay\nProcessing Record 19 of Set 7 | rawannawi\nCity not found. Skipping...\nProcessing Record 20 of Set 7 | sydney\nProcessing Record 21 of Set 7 | saint george\nProcessing Record 22 of Set 7 | boende\nProcessing Record 23 of Set 7 | egvekinot\nProcessing Record 24 of Set 7 | souillac\nProcessing Record 25 of Set 7 | yarmouth\nProcessing Record 26 of Set 7 | katsiveli\nCity not found. Skipping...\nProcessing Record 27 of Set 7 | puerto del rosario\nProcessing Record 28 of Set 7 | berlevag\nProcessing Record 29 of Set 7 | catamarca\nProcessing Record 30 of Set 7 | ulaanbaatar\nProcessing Record 31 of Set 7 | porto-vecchio\nProcessing Record 32 of Set 7 | beeville\nProcessing Record 33 of Set 7 | sentyabrskiy\nCity not found. Skipping...\nProcessing Record 34 of Set 7 | takoradi\nProcessing Record 35 of Set 7 | mount isa\nProcessing Record 36 of Set 7 | plouzane\nProcessing Record 37 of Set 7 | sao jose da coroa grande\nProcessing Record 38 of Set 7 | caravelas\nProcessing Record 39 of Set 7 | warqla\nCity not found. Skipping...\nProcessing Record 40 of Set 7 | cidreira\nProcessing Record 41 of Set 7 | bengkulu\nProcessing Record 42 of Set 7 | shihezi\nProcessing Record 43 of Set 7 | pervomayskoye\nProcessing Record 44 of Set 7 | leningradskiy\nProcessing Record 45 of Set 7 | christchurch\nProcessing Record 46 of Set 7 | puerto ayacucho\nProcessing Record 47 of Set 7 | pictou\nProcessing Record 48 of Set 7 | taoudenni\nProcessing Record 49 of Set 7 | pangnirtung\nProcessing Record 50 of Set 7 | ciudad bolivar\nProcessing Record 1 of Set 8 | port hardy\nProcessing Record 2 of Set 8 | iqaluit\nProcessing Record 3 of Set 8 | esil\nProcessing Record 4 of Set 8 | ancud\nProcessing Record 5 of Set 8 | sur\nProcessing Record 6 of Set 8 | timizart\nProcessing Record 7 of Set 8 | mizdah\nProcessing Record 8 of Set 8 | ilhabela\nProcessing Record 9 of Set 8 | mahebourg\nProcessing Record 10 of Set 8 | chitrakonda\nProcessing Record 11 of Set 8 | marawi\nProcessing Record 12 of Set 8 | novobiryusinskiy\nProcessing Record 13 of Set 8 | pevek\nProcessing Record 14 of Set 8 | bacuit\nCity not found. Skipping...\nProcessing Record 15 of Set 8 | saint-leu\nProcessing Record 16 of Set 8 | tawaramoto\nProcessing Record 17 of Set 8 | usinsk\nProcessing Record 18 of Set 8 | mangrol\nProcessing Record 19 of Set 8 | azad shahr\nProcessing Record 20 of Set 8 | pombas\nProcessing Record 21 of Set 8 | samarai\nProcessing Record 22 of Set 8 | gela\nProcessing Record 23 of Set 8 | kabala\nProcessing Record 24 of Set 8 | altay\nProcessing Record 25 of Set 8 | kloulklubed\nProcessing Record 26 of Set 8 | atherton\nProcessing Record 27 of Set 8 | payo\nProcessing Record 28 of Set 8 | port hueneme\nProcessing Record 29 of Set 8 | terney\nProcessing Record 30 of Set 8 | hirara\nProcessing Record 31 of Set 8 | halifax\nProcessing Record 32 of Set 8 | west bay\nProcessing Record 33 of Set 8 | victoria\nProcessing Record 34 of Set 8 | patacamaya\nProcessing Record 35 of Set 8 | jadu\nProcessing Record 36 of Set 8 | puerto narino\nProcessing Record 37 of Set 8 | pemangkat\nProcessing Record 38 of Set 8 | calatayud\nProcessing Record 39 of Set 8 | bandarbeyla\nProcessing Record 40 of Set 8 | wanaka\nProcessing Record 41 of Set 8 | loviisa\nProcessing Record 42 of Set 8 | flin flon\nProcessing Record 43 of Set 8 | jacareacanga\nProcessing Record 44 of Set 8 | brokopondo\nProcessing Record 45 of Set 8 | nsanje\nProcessing Record 46 of Set 8 | chekhov\nProcessing Record 47 of Set 8 | quatre cocos\nProcessing Record 48 of Set 8 | nanakuli\nProcessing Record 49 of Set 8 | mino\nProcessing Record 50 of Set 8 | mehkar\nProcessing Record 1 of Set 9 | zabaykalsk\nProcessing Record 2 of Set 9 | metro\nProcessing Record 3 of Set 9 | shieli\nProcessing Record 4 of Set 9 | huarmey\nProcessing Record 5 of Set 9 | raudeberg\nProcessing Record 6 of Set 9 | saint anthony\nProcessing Record 7 of Set 9 | escanaba\nProcessing Record 8 of Set 9 | road town\nProcessing Record 9 of Set 9 | kazalinsk\nCity not found. Skipping...\nProcessing Record 10 of Set 9 | marrakesh\nProcessing Record 11 of Set 9 | olenino\nProcessing Record 12 of Set 9 | centralia\nProcessing Record 13 of Set 9 | impfondo\nProcessing Record 14 of Set 9 | alofi\nProcessing Record 15 of Set 9 | nome\nProcessing Record 16 of Set 9 | yeppoon\nProcessing Record 17 of Set 9 | samusu\nCity not found. Skipping...\nProcessing Record 18 of Set 9 | andrews\nProcessing Record 19 of Set 9 | agirish\nProcessing Record 20 of Set 9 | maceio\nProcessing Record 21 of Set 9 | grants\nProcessing Record 22 of Set 9 | gulu\nProcessing Record 23 of Set 9 | umzimvubu\nCity not found. Skipping...\nProcessing Record 24 of Set 9 | jiangkou\nProcessing Record 25 of Set 9 | leh\nProcessing Record 26 of Set 9 | batemans bay\nProcessing Record 27 of Set 9 | sorong\nProcessing Record 28 of Set 9 | tirumullaivasal\nProcessing Record 29 of Set 9 | kingaroy\nProcessing Record 30 of Set 9 | san cristobal\nProcessing Record 31 of Set 9 | comodoro rivadavia\nProcessing Record 32 of Set 9 | aosta\nProcessing Record 33 of Set 9 | manzil salim\nProcessing Record 34 of Set 9 | abu samrah\nProcessing Record 35 of Set 9 | bairiki\nProcessing Record 36 of Set 9 | saint-augustin\nProcessing Record 37 of Set 9 | itacarambi\nProcessing Record 38 of Set 9 | paucartambo\nCity not found. Skipping...\nProcessing Record 39 of Set 9 | lewiston\nProcessing Record 40 of Set 9 | hihifo\nCity not found. Skipping...\nProcessing Record 41 of Set 9 | hovd\nProcessing Record 42 of Set 9 | lompoc\nProcessing Record 43 of Set 9 | shikhazany\nProcessing Record 44 of Set 9 | tomelloso\nProcessing Record 45 of Set 9 | ibiruba\nProcessing Record 46 of Set 9 | evanston\nProcessing Record 47 of Set 9 | komsomolskiy\nProcessing Record 48 of Set 9 | dalvik\nProcessing Record 49 of Set 9 | atar\nProcessing Record 50 of Set 9 | noyabrsk\nProcessing Record 1 of Set 10 | carnarvon\nProcessing Record 2 of Set 10 | yerbogachen\nProcessing Record 3 of Set 10 | saint-francois\nProcessing Record 4 of Set 10 | santa rosalia\nProcessing Record 5 of Set 10 | novopokrovka\nProcessing Record 6 of Set 10 | pontes e lacerda\nProcessing Record 7 of Set 10 | manacor\nProcessing Record 8 of Set 10 | port hedland\nProcessing Record 9 of Set 10 | marigot\nProcessing Record 10 of Set 10 | vestmanna\nProcessing Record 11 of Set 10 | sagvag\nProcessing Record 12 of Set 10 | meulaboh\nProcessing Record 13 of Set 10 | daxian\nCity not found. Skipping...\nProcessing Record 14 of Set 10 | yulara\nProcessing Record 15 of Set 10 | ozernovskiy\nProcessing Record 16 of Set 10 | flinders\nProcessing Record 17 of Set 10 | kawalu\nProcessing Record 18 of Set 10 | turayf\nProcessing Record 19 of Set 10 | abonnema\nProcessing Record 20 of Set 10 | ayan\nProcessing Record 21 of Set 10 | glogow\nProcessing Record 22 of Set 10 | blanes\nProcessing Record 23 of Set 10 | paramonga\nProcessing Record 24 of Set 10 | malanje\nProcessing Record 25 of Set 10 | sorland\nProcessing Record 26 of Set 10 | tamworth\nProcessing Record 27 of Set 10 | wajima\nProcessing Record 28 of Set 10 | seoul\nProcessing Record 29 of Set 10 | oudtshoorn\nProcessing Record 30 of Set 10 | palmer\nProcessing Record 31 of Set 10 | waingapu\nProcessing Record 32 of Set 10 | esna\nProcessing Record 33 of Set 10 | cockburn harbour\nCity not found. Skipping...\nProcessing Record 34 of Set 10 | carutapera\nProcessing Record 35 of Set 10 | bomet\nProcessing Record 36 of Set 10 | shumikhinskiy\nProcessing Record 37 of Set 10 | yenagoa\nProcessing Record 38 of Set 10 | yelan-kolenovskiy\nProcessing Record 39 of Set 10 | tabiauea\nCity not found. Skipping...\nProcessing Record 40 of Set 10 | monticello\nProcessing Record 41 of Set 10 | coquimbo\nProcessing Record 42 of Set 10 | taltal\nProcessing Record 43 of Set 10 | ibra\nProcessing Record 44 of Set 10 | broome\nProcessing Record 45 of Set 10 | esso\nProcessing Record 46 of Set 10 | lebanon\nProcessing Record 47 of Set 10 | dinghai\nProcessing Record 48 of Set 10 | ampanihy\nProcessing Record 49 of Set 10 | vakhrushev\nProcessing Record 50 of Set 10 | yantzaza\nProcessing Record 1 of Set 11 | uvinza\nProcessing Record 2 of Set 11 | dakar\nProcessing Record 3 of Set 11 | campo grande\nProcessing Record 4 of Set 11 | wattegama\nProcessing Record 5 of Set 11 | itarema\nProcessing Record 6 of Set 11 | sidney\nProcessing Record 7 of Set 11 | saltpond\nProcessing Record 8 of Set 11 | harnosand\nProcessing Record 9 of Set 11 | fare\nProcessing Record 10 of Set 11 | lapy\nProcessing Record 11 of Set 11 | waitati\nProcessing Record 12 of Set 11 | rexburg\nProcessing Record 13 of Set 11 | kruisfontein\nProcessing Record 14 of Set 11 | buqayq\nCity not found. Skipping...\nProcessing Record 15 of Set 11 | conde\nProcessing Record 16 of Set 11 | aleksandrov gay\nProcessing Record 17 of Set 11 | mocambique\nCity not found. Skipping...\nProcessing Record 18 of Set 11 | uige\nProcessing Record 19 of Set 11 | bulungu\nProcessing Record 20 of Set 11 | cartagena\nProcessing Record 21 of Set 11 | saint-georges\nProcessing Record 22 of Set 11 | vao\nProcessing Record 23 of Set 11 | olinda\nProcessing Record 24 of Set 11 | xining\nProcessing Record 25 of Set 11 | negara\nProcessing Record 26 of Set 11 | hagi\nProcessing Record 27 of Set 11 | sandwick\nProcessing Record 28 of Set 11 | esperance\nProcessing Record 29 of Set 11 | maromitsa\nProcessing Record 30 of Set 11 | dekoa\nCity not found. Skipping...\nProcessing Record 31 of Set 11 | rovnoye\nProcessing Record 32 of Set 11 | vanimo\nProcessing Record 33 of Set 11 | katherine\nProcessing Record 34 of Set 11 | horezu\nProcessing Record 35 of Set 11 | ketchikan\nProcessing Record 36 of Set 11 | guadalupe y calvo\nProcessing Record 37 of Set 11 | roald\nProcessing Record 38 of Set 11 | temple\nProcessing Record 39 of Set 11 | hobyo\nProcessing Record 40 of Set 11 | popondetta\nProcessing Record 41 of Set 11 | meridian\nProcessing Record 42 of Set 11 | alta floresta\nProcessing Record 43 of Set 11 | balkhash\nProcessing Record 44 of Set 11 | klaksvik\nProcessing Record 45 of Set 11 | okitipupa\nProcessing Record 46 of Set 11 | gizo\nProcessing Record 47 of Set 11 | dekar\nProcessing Record 48 of Set 11 | san ignacio\nProcessing Record 49 of Set 11 | pundaguitan\nProcessing Record 50 of Set 11 | harer\nProcessing Record 1 of Set 12 | halalo\nCity not found. Skipping...\nProcessing Record 2 of Set 12 | bangkok\nProcessing Record 3 of Set 12 | westport\nProcessing Record 4 of Set 12 | belaya gora\nProcessing Record 5 of Set 12 | ordzhonikidze\nProcessing Record 6 of Set 12 | carlagan\nProcessing Record 7 of Set 12 | san julian\nProcessing Record 8 of Set 12 | gouyave\nProcessing Record 9 of Set 12 | buala\nProcessing Record 10 of Set 12 | puerto leguizamo\nProcessing Record 11 of Set 12 | cortez\nProcessing Record 12 of Set 12 | tarauaca\nProcessing Record 13 of Set 12 | siddipet\nProcessing Record 14 of Set 12 | jamame\nProcessing Record 15 of Set 12 | cotacachi\nProcessing Record 16 of Set 12 | bluefield\nProcessing Record 17 of Set 12 | verkhoyansk\nProcessing Record 18 of Set 12 | soe\nProcessing Record 19 of Set 12 | galiakot\nProcessing Record 20 of Set 12 | toliary\nCity not found. Skipping...\nProcessing Record 21 of Set 12 | korla\nProcessing Record 22 of Set 12 | beinamar\nProcessing Record 23 of Set 12 | sheopur\nProcessing Record 24 of Set 12 | soligalich\nProcessing Record 25 of Set 12 | port hawkesbury\nProcessing Record 26 of Set 12 | ghugus\nProcessing Record 27 of Set 12 | cariamanga\nProcessing Record 28 of Set 12 | inderborskiy\nCity not found. Skipping...\nProcessing Record 29 of Set 12 | luanda\nProcessing Record 30 of Set 12 | lexington\nProcessing Record 31 of Set 12 | north bend\nProcessing Record 32 of Set 12 | bac lieu\nProcessing Record 33 of Set 12 | borovichi\nProcessing Record 34 of Set 12 | lumsden\nProcessing Record 35 of Set 12 | ust-bolsheretsk\nCity not found. Skipping...\nProcessing Record 36 of Set 12 | ambilobe\nProcessing Record 37 of Set 12 | stonewall\nProcessing Record 38 of Set 12 | kastamonu\nProcessing Record 39 of Set 12 | turukhansk\nProcessing Record 40 of Set 12 | lorengau\nProcessing Record 41 of Set 12 | hibbing\nProcessing Record 42 of Set 12 | new richmond\nProcessing Record 43 of Set 12 | abay\nProcessing Record 44 of Set 12 | mehamn\nProcessing Record 45 of Set 12 | kuna\nProcessing Record 46 of Set 12 | glace bay\nProcessing Record 47 of Set 12 | kaseda\nProcessing Record 48 of Set 12 | urengoy\nProcessing Record 49 of Set 12 | la palma\nProcessing Record 50 of Set 12 | sola\nProcessing Record 1 of Set 13 | tabialan\nCity not found. Skipping...\nProcessing Record 2 of Set 13 | falealupo\nCity not found. Skipping...\nProcessing Record 3 of Set 13 | san juan chamelco\nProcessing Record 4 of Set 13 | weihe\nProcessing Record 5 of Set 13 | tromso\nProcessing Record 6 of Set 13 | taguatinga\nProcessing Record 7 of Set 13 | ambon\nProcessing Record 8 of Set 13 | port-cartier\nProcessing Record 9 of Set 13 | san fernando\nProcessing Record 10 of Set 13 | maicao\nProcessing Record 11 of Set 13 | cabedelo\nProcessing Record 12 of Set 13 | half moon bay\nProcessing Record 13 of Set 13 | tulsipur\nProcessing Record 14 of Set 13 | inhambane\nProcessing Record 15 of Set 13 | price\nProcessing Record 16 of Set 13 | kemijarvi\nProcessing Record 17 of Set 13 | grand-santi\nProcessing Record 18 of Set 13 | tianpeng\n-----------------------------\nData Retrieval Complete      \n-----------------------------\n"
    }
   ],
   "source": [
    "\n",
    "#Challenge 6^ Create an empty list to hold the weather data.\n",
    "city_data = []\n",
    "# Print the beginning of the logging.\n",
    "print(\"Beginning Data Retrieval     \")\n",
    "print(\"-----------------------------\")\n",
    "\n",
    "# Create counters.\n",
    "record_count = 1\n",
    "set_count = 1\n",
    "\n",
    "# Loop through all the cities in the list.\n",
    "for i, city in enumerate(cities):\n",
    "    # Group cities in sets of 50 for logging purposes.\n",
    "    if (i % 50 == 0 and i >= 50):\n",
    "        set_count += 1\n",
    "        record_count = 1\n",
    "    # Create endpoint URL with each city.\n",
    "    city_url = url + \"&q=\" + city.replace(\" \",\"+\")\n",
    "\n",
    "    # Log the URL, record, and set numbers and the city.\n",
    "    print(f\"Processing Record {record_count} of Set {set_count} | {city}\")\n",
    "    # Add 1 to the record count.\n",
    "    record_count += 1\n",
    "    \n",
    "    # Run an API request for each of the cities.\n",
    "    try:\n",
    "        # Parse the JSON and retrieve data.\n",
    "        city_weather = requests.get(city_url).json()\n",
    "        # Parse out the needed data.\n",
    "        city_lat = city_weather[\"coord\"][\"lat\"]\n",
    "        city_lng = city_weather[\"coord\"][\"lon\"]\n",
    "        city_max_temp = city_weather[\"main\"][\"temp_max\"]\n",
    "        city_humidity = city_weather[\"main\"][\"humidity\"]\n",
    "        city_clouds = city_weather[\"clouds\"][\"all\"]\n",
    "        city_wind = city_weather[\"wind\"][\"speed\"]\n",
    "        city_country = city_weather[\"sys\"][\"country\"]\n",
    "        try:    \n",
    "            city_weather_desc = city_weather[\"weather\"][0][\"description\"]\n",
    "        except:\n",
    "            city_weather_desc = \"No description\"\n",
    "        try:\n",
    "            city_rain = city_weather[\"rain\"][\"1h\"]\n",
    "        except:\n",
    "            city_rain = 0\n",
    "        try:\n",
    "            city_snow = city_weather[\"snow\"][\"1h\"]\n",
    "        except:\n",
    "            city_snow = 0  \n",
    "        # Append the city information into city_data list.\n",
    "        city_data.append({\"City\": city.title(),\n",
    "                          \"Lat\": city_lat,\n",
    "                          \"Lng\": city_lng,\n",
    "                          \"Max Temp\": city_max_temp,\n",
    "                          \"Humidity\": city_humidity,\n",
    "                          \"Cloudiness\": city_clouds,\n",
    "                          \"Wind Speed\": city_wind,\n",
    "                          \"Country\": city_country,\n",
    "                          \"Current Description\": city_weather_desc,\n",
    "                          \"Rain (Inches)\": city_rain,\n",
    "                          \"Snow (Inches)\": city_snow\n",
    "                          })\n",
    "\n",
    "    # If an error is experienced, skip the city.\n",
    "    except:\n",
    "        print(\"City not found. Skipping...\")\n",
    "        pass\n",
    "\n",
    "# Indicate that Data Loading is complete.\n",
    "print(\"-----------------------------\")\n",
    "print(\"Data Retrieval Complete      \")\n",
    "print(\"-----------------------------\")"
   ]
  },
  {
   "cell_type": "code",
   "execution_count": 10,
   "metadata": {},
   "outputs": [
    {
     "output_type": "execute_result",
     "data": {
      "text/plain": "': 0,\n  'Snow (Inches)': 0},\n {'City': 'Maromitsa',\n  'Lat': 59.87,\n  'Lng': 48.01,\n  'Max Temp': 62.91,\n  'Humidity': 69,\n  'Cloudiness': 100,\n  'Wind Speed': 7.16,\n  'Country': 'RU',\n  'Current Description': 'overcast clouds',\n  'Rain (Inches)': 0,\n  'Snow (Inches)': 0},\n {'City': 'Rovnoye',\n  'Lat': 50.78,\n  'Lng': 46.05,\n  'Max Temp': 70.52,\n  'Humidity': 76,\n  'Cloudiness': 0,\n  'Wind Speed': 13.15,\n  'Country': 'RU',\n  'Current Description': 'clear sky',\n  'Rain (Inches)': 0,\n  'Snow (Inches)': 0},\n {'City': 'Vanimo',\n  'Lat': -2.67,\n  'Lng': 141.3,\n  'Max Temp': 76.91,\n  'Humidity': 84,\n  'Cloudiness': 85,\n  'Wind Speed': 2.82,\n  'Country': 'PG',\n  'Current Description': 'overcast clouds',\n  'Rain (Inches)': 0,\n  'Snow (Inches)': 0},\n {'City': 'Katherine',\n  'Lat': -14.47,\n  'Lng': 132.27,\n  'Max Temp': 69.8,\n  'Humidity': 56,\n  'Cloudiness': 0,\n  'Wind Speed': 4.7,\n  'Country': 'AU',\n  'Current Description': 'clear sky',\n  'Rain (Inches)': 0,\n  'Snow (Inches)': 0},\n {'City': 'Horezu',\n  'Lat': 45.15,\n  'Lng': 24.02,\n  'Max Temp': 64.96,\n  'Humidity': 66,\n  'Cloudiness': 0,\n  'Wind Speed': 2.75,\n  'Country': 'RO',\n  'Current Description': 'clear sky',\n  'Rain (Inches)': 0,\n  'Snow (Inches)': 0},\n {'City': 'Ketchikan',\n  'Lat': 55.34,\n  'Lng': -131.65,\n  'Max Temp': 55.4,\n  'Humidity': 87,\n  'Cloudiness': 90,\n  'Wind Speed': 6.93,\n  'Country': 'US',\n  'Current Description': 'overcast clouds',\n  'Rain (Inches)': 0,\n  'Snow (Inches)': 0},\n {'City': 'Guadalupe Y Calvo',\n  'Lat': 26.1,\n  'Lng': -106.97,\n  'Max Temp': 79.41,\n  'Humidity': 37,\n  'Cloudiness': 97,\n  'Wind Speed': 1.43,\n  'Country': 'MX',\n  'Current Description': 'overcast clouds',\n  'Rain (Inches)': 0,\n  'Snow (Inches)': 0},\n {'City': 'Roald',\n  'Lat': 62.58,\n  'Lng': 6.13,\n  'Max Temp': 53.6,\n  'Humidity': 71,\n  'Cloudiness': 75,\n  'Wind Speed': 16.11,\n  'Country': 'NO',\n  'Current Description': 'shower rain',\n  'Rain (Inches)': 0,\n  'Snow (Inches)': 0},\n {'City': 'Temple',\n  'Lat': 31.1,\n  'Lng': -97.34,\n  'Max Temp': 99,\n  'Humidity': 44,\n  'Cloudiness': 1,\n  'Wind Speed': 4.7,\n  'Country': 'US',\n  'Current Description': 'clear sky',\n  'Rain (Inches)': 0,\n  'Snow (Inches)': 0},\n {'City': 'Hobyo',\n  'Lat': 5.35,\n  'Lng': 48.53,\n  'Max Temp': 79.34,\n  'Humidity': 77,\n  'Cloudiness': 99,\n  'Wind Speed': 31.68,\n  'Country': 'SO',\n  'Current Description': 'overcast clouds',\n  'Rain (Inches)': 0,\n  'Snow (Inches)': 0},\n {'City': 'Popondetta',\n  'Lat': -8.75,\n  'Lng': 148.25,\n  'Max Temp': 71.38,\n  'Humidity': 92,\n  'Cloudiness': 100,\n  'Wind Speed': 3.06,\n  'Country': 'PG',\n  'Current Description': 'light rain',\n  'Rain (Inches)': 0.44,\n  'Snow (Inches)': 0},\n {'City': 'Meridian',\n  'Lat': 43.61,\n  'Lng': -116.39,\n  'Max Temp': 91,\n  'Humidity': 25,\n  'Cloudiness': 1,\n  'Wind Speed': 7.38,\n  'Country': 'US',\n  'Current Description': 'clear sky',\n  'Rain (Inches)': 0,\n  'Snow (Inches)': 0},\n {'City': 'Alta Floresta',\n  'Lat': -9.88,\n  'Lng': -56.09,\n  'Max Temp': 95,\n  'Humidity': 30,\n  'Cloudiness': 75,\n  'Wind Speed': 6.93,\n  'Country': 'BR',\n  'Current Description': 'broken clouds',\n  'Rain (Inches)': 0,\n  'Snow (Inches)': 0},\n {'City': 'Balkhash',\n  'Lat': 46.84,\n  'Lng': 74.98,\n  'Max Temp': 70.81,\n  'Humidity': 47,\n  'Cloudiness': 0,\n  'Wind Speed': 15.61,\n  'Country': 'KZ',\n  'Current Description': 'clear sky',\n  'Rain (Inches)': 0,\n  'Snow (Inches)': 0},\n {'City': 'Klaksvik',\n  'Lat': 62.23,\n  'Lng': -6.59,\n  'Max Temp': 51.8,\n  'Humidity': 93,\n  'Cloudiness': 94,\n  'Wind Speed': 4.7,\n  'Country': 'FO',\n  'Current Description': 'mist',\n  'Rain (Inches)': 0,\n  'Snow (Inches)': 0},\n {'City': 'Okitipupa',\n  'Lat': 6.5,\n  'Lng': 4.78,\n  'Max Temp': 73.62,\n  'Humidity': 97,\n  'Cloudiness': 100,\n  'Wind Speed': 2.98,\n  'Country': 'NG',\n  'Current Description': 'light rain',\n  'Rain (Inches)': 0.3,\n  'Snow (Inches)': 0},\n {'City': 'Gizo',\n  'Lat': -8.1,\n  'Lng': 156.84,\n  'Max Temp': 82.11,\n  'Humidity': 74,\n  'Cloudiness': 58,\n  'Wind Speed': 9.48,\n  'Country': 'SB',\n  'Current Description': 'broken clouds',\n  'Rain (Inches)': 0,\n  'Snow (Inches)': 0},\n {'City': 'Dekar',\n  'Lat': -21.53,\n  'Lng': 21.93,\n  'Max Temp': 45.64,\n  'Humidity': 50,\n  'Cloudiness': 0,\n  'Wind Speed': 7.27,\n  'Country': 'BW',\n  'Current Description': 'clear sky',\n  'Rain (Inches)': 0,\n  'Snow (Inches)': 0},\n {'City': 'San Ignacio',\n  'Lat': 17.16,\n  'Lng': -89.07,\n  'Max Temp': 89.6,\n  'Humidity': 66,\n  'Cloudiness': 40,\n  'Wind Speed': 7.63,\n  'Country': 'BZ',\n  'Current Description': 'scattered clouds',\n  'Rain (Inches)': 0,\n  'Snow (Inches)': 0},\n {'City': 'Pundaguitan',\n  'Lat': 6.37,\n  'Lng': 126.17,\n  'Max Temp': 82.29,\n  'Humidity': 73,\n  'Cloudiness': 99,\n  'Wind Speed': 3.36,\n  'Country': 'PH',\n  'Current Description': 'moderate rain',\n  'Rain (Inches)': 1.21,\n  'Snow (Inches)': 0},\n {'City': 'Harer',\n  'Lat': 9.31,\n  'Lng': 42.13,\n  'Max Temp': 64.76,\n  'Humidity': 83,\n  'Cloudiness': 91,\n  'Wind Speed': 5.79,\n  'Country': 'ET',\n  'Current Description': 'moderate rain',\n  'Rain (Inches)': 1.03,\n  'Snow (Inches)': 0},\n {'City': 'Bangkok',\n  'Lat': 13.75,\n  'Lng': 100.52,\n  'Max Temp': 86,\n  'Humidity': 79,\n  'Cloudiness': 20,\n  'Wind Speed': 8.05,\n  'Country': 'TH',\n  'Current Description': 'moderate rain',\n  'Rain (Inches)': 1.27,\n  'Snow (Inches)': 0},\n {'City': 'Westport',\n  'Lat': 41.14,\n  'Lng': -73.36,\n  'Max Temp': 86,\n  'Humidity': 74,\n  'Cloudiness': 1,\n  'Wind Speed': 5.82,\n  'Country': 'US',\n  'Current Description': 'clear sky',\n  'Rain (Inches)': 0,\n  'Snow (Inches)': 0},\n {'City': 'Belaya Gora',\n  'Lat': 68.53,\n  'Lng': 146.42,\n  'Max Temp': 65.64,\n  'Humidity': 59,\n  'Cloudiness': 100,\n  'Wind Speed': 4.43,\n  'Country': 'RU',\n  'Current Description': 'overcast clouds',\n  'Rain (Inches)': 0,\n  'Snow (Inches)': 0},\n {'City': 'Ordzhonikidze',\n  'Lat': 52.44,\n  'Lng': 61.74,\n  'Max Temp': 71.74,\n  'Humidity': 71,\n  'Cloudiness': 17,\n  'Wind Speed': 5.1,\n  'Country': 'KZ',\n  'Current Description': 'few clouds',\n  'Rain (Inches)': 0,\n  'Snow (Inches)': 0},\n {'City': 'Carlagan',\n  'Lat': 14.97,\n  'Lng': 122.05,\n  'Max Temp': 81.64,\n  'Humidity': 78,\n  'Cloudiness': 67,\n  'Wind Speed': 1.07,\n  'Country': 'PH',\n  'Current Description': 'broken clouds',\n  'Rain (Inches)': 0,\n  'Snow (Inches)': 0},\n {'City': 'San Julian',\n  'Lat': 21.02,\n  'Lng': -102.17,\n  'Max Temp': 77.18,\n  'Humidity': 42,\n  'Cloudiness': 40,\n  'Wind Speed': 10.71,\n  'Country': 'MX',\n  'Current Description': 'scattered clouds',\n  'Rain (Inches)': 0,\n  'Snow (Inches)': 0},\n {'City': 'Gouyave',\n  'Lat': 12.16,\n  'Lng': -61.73,\n  'Max Temp': 87.8,\n  'Humidity': 70,\n  'Cloudiness': 40,\n  'Wind Speed': 17.22,\n  'Country': 'GD',\n  'Current Description': 'scattered clouds',\n  'Rain (Inches)': 0,\n  'Snow (Inches)': 0},\n {'City': 'Buala',\n  'Lat': -8.14,\n  'Lng': 159.59,\n  'Max Temp': 80.64,\n  'Humidity': 78,\n  'Cloudiness': 91,\n  'Wind Speed': 12.44,\n  'Country': 'SB',\n  'Current Description': 'overcast clouds',\n  'Rain (Inches)': 0,\n  'Snow (Inches)': 0},\n {'City': 'Puerto Leguizamo',\n  'Lat': -0.19,\n  'Lng': -74.78,\n  'Max Temp': 78.53,\n  'Humidity': 75,\n  'Cloudiness': 86,\n  'Wind Speed': 3.74,\n  'Country': 'CO',\n  'Current Description': 'overcast clouds',\n  'Rain (Inches)': 0,\n  'Snow (Inches)': 0},\n {'City': 'Cortez',\n  'Lat': 37.35,\n  'Lng': -108.59,\n  'Max Temp': 93.99,\n  'Humidity': 9,\n  'Cloudiness': 1,\n  'Wind Speed': 14.99,\n  'Country': 'US',\n  'Current Description': 'clear sky',\n  'Rain (Inches)': 0,\n  'Snow (Inches)': 0},\n {'City': 'Tarauaca',\n  'Lat': -8.16,\n  'Lng': -70.77,\n  'Max Temp': 91.99,\n  'Humidity': 41,\n  'Cloudiness': 7,\n  'Wind Speed': 1.77,\n  'Country': 'BR',\n  'Current Description': 'clear sky',\n  'Rain (Inches)': 0,\n  'Snow (Inches)': 0},\n {'City': 'Siddipet',\n  'Lat': 18.1,\n  'Lng': 78.85,\n  'Max Temp': 77.36,\n  'Humidity': 82,\n  'Cloudiness': 100,\n  'Wind Speed': 8.14,\n  'Country': 'IN',\n  'Current Description': 'overcast clouds',\n  'Rain (Inches)': 0,\n  'Snow (Inches)': 0},\n {'City': 'Jamame',\n  'Lat': 0.07,\n  'Lng': 42.75,\n  'Max Temp': 78.4,\n  'Humidity': 78,\n  'Cloudiness': 93,\n  'Wind Speed': 15.93,\n  'Country': 'SO',\n  'Current Description': 'overcast clouds',\n  'Rain (Inches)': 0,\n  'Snow (Inches)': 0},\n {'City': 'Cotacachi',\n  'Lat': 0.3,\n  'Lng': -78.27,\n  'Max Temp': 65.5,\n  'Humidity': 60,\n  'Cloudiness': 62,\n  'Wind Speed': 3.42,\n  'Country': 'EC',\n  'Current Description': 'moderate rain',\n  'Rain (Inches)': 1.02,\n  'Snow (Inches)': 0},\n {'City': 'Bluefield',\n  'Lat': 37.27,\n  'Lng': -81.22,\n  'Max Temp': 82,\n  'Humidity': 60,\n  'Cloudiness': 75,\n  'Wind Speed': 10.29,\n  'Country': 'US',\n  'Current Description': 'broken clouds',\n  'Rain (Inches)': 0,\n  'Snow (Inches)': 0},\n {'City': 'Verkhoyansk',\n  'Lat': 67.54,\n  'Lng': 133.38,\n  'Max Temp': 66.72,\n  'Humidity': 45,\n  'Cloudiness': 37,\n  'Wind Speed': 3.6,\n  'Country': 'RU',\n  'Current Description': 'scattered clouds',\n  'Rain (Inches)': 0,\n  'Snow (Inches)': 0},\n {'City': 'Soe',\n  'Lat': -9.86,\n  'Lng': 124.28,\n  'Max Temp': 62.89,\n  'Humidity': 100,\n  'Cloudiness': 100,\n  'Wind Speed': 3.76,\n  'Country': 'ID',\n  'Current Description': 'overcast clouds',\n  'Rain (Inches)': 0,\n  'Snow (Inches)': 0},\n {'City': 'Galiakot',\n  'Lat': 23.52,\n  'Lng': 74,\n  'Max Temp': 83.95,\n  'Humidity': 80,\n  'Cloudiness': 100,\n  'Wind Speed': 13.91,\n  'Country': 'IN',\n  'Current Description': 'moderate rain',\n  'Rain (Inches)': 3.24,\n  'Snow (Inches)': 0},\n {'City': 'Korla',\n  'Lat': 41.76,\n  'Lng': 86.15,\n  'Max Temp': 82,\n  'Humidity': 58,\n  'Cloudiness': 0,\n  'Wind Speed': 8.99,\n  'Country': 'CN',\n  'Current Description': 'clear sky',\n  'Rain (Inches)': 0,\n  'Snow (Inches)': 0},\n {'City': 'Beinamar',\n  'Lat': 8.67,\n  'Lng': 15.38,\n  'Max Temp': 75.2,\n  'Humidity': 86,\n  'Cloudiness': 100,\n  'Wind Speed': 3.67,\n  'Country': 'TD',\n  'Current Description': 'overcast clouds',\n  'Rain (Inches)': 0,\n  'Snow (Inches)': 0},\n {'City': 'Sheopur',\n  'Lat': 25.67,\n  'Lng': 76.7,\n  'Max Temp': 88.9,\n  'Humidity': 61,\n  'Cloudiness': 16,\n  'Wind Speed': 12.68,\n  'Country': 'IN',\n  'Current Description': 'few clouds',\n  'Rain (Inches)': 0,\n  'Snow (Inches)': 0},\n {'City': 'Soligalich',\n  'Lat': 59.08,\n  'Lng': 42.29,\n  'Max Temp': 66.74,\n  'Humidity': 78,\n  'Cloudiness': 50,\n  'Wind Speed': 11.01,\n  'Country': 'RU',\n  'Current Description': 'scattered clouds',\n  'Rain (Inches)': 0,\n  'Snow (Inches)': 0},\n {'City': 'Port Hawkesbury',\n  'Lat': 45.62,\n  'Lng': -61.35,\n  'Max Temp': 70,\n  'Humidity': 88,\n  'Cloudiness': 90,\n  'Wind Speed': 6.93,\n  'Country': 'CA',\n  'Current Description': 'overcast clouds',\n  'Rain (Inches)': 0,\n  'Snow (Inches)': 0},\n {'City': 'Ghugus',\n  'Lat': 19.93,\n  'Lng': 79.13,\n  'Max Temp': 83.98,\n  'Humidity': 69,\n  'Cloudiness': 98,\n  'Wind Speed': 8.12,\n  'Country': 'IN',\n  'Current Description': 'overcast clouds',\n  'Rain (Inches)': 0,\n  'Snow (Inches)': 0},\n {'City': 'Cariamanga',\n  'Lat': -4.33,\n  'Lng': -79.55,\n  'Max Temp': 69.17,\n  'Humidity': 63,\n  'Cloudiness': 49,\n  'Wind Speed': 5.91,\n  'Country': 'EC',\n  'Current Description': 'scattered clouds',\n  'Rain (Inches)': 0,\n  'Snow (Inches)': 0},\n {'City': 'Luanda',\n  'Lat': -8.84,\n  'Lng': 13.23,\n  'Max Temp': 71.6,\n  'Humidity': 83,\n  'Cloudiness': 90,\n  'Wind Speed': 6.93,\n  'Country': 'AO',\n  'Current Description': 'overcast clouds',\n  'Rain (Inches)': 0,\n  'Snow (Inches)': 0},\n {'City': 'Lexington',\n  'Lat': 37.99,\n  'Lng': -84.48,\n  'Max Temp': 86,\n  'Humidity': 48,\n  'Cloudiness': 40,\n  'Wind Speed': 10.29,\n  'Country': 'US',\n  'Current Description': 'scattered clouds',\n  'Rain (Inches)': 0,\n  'Snow (Inches)': 0},\n {'City': 'North Bend',\n  'Lat': 43.41,\n  'Lng': -124.22,\n  'Max Temp': 66,\n  'Humidity': 68,\n  'Cloudiness': 90,\n  'Wind Speed': 6.93,\n  'Country': 'US',\n  'Current Description': 'overcast clouds',\n  'Rain (Inches)': 0,\n  'Snow (Inches)': 0},\n {'City': 'Bac Lieu',\n  'Lat': 9.29,\n  'Lng': 105.72,\n  'Max Temp': 80.53,\n  'Humidity': 82,\n  'Cloudiness': 100,\n  'Wind Speed': 7.29,\n  'Country': 'VN',\n  'Current Description': 'overcast clouds',\n  'Rain (Inches)': 0,\n  'Snow (Inches)': 0},\n {'City': 'Borovichi',\n  'Lat': 58.39,\n  'Lng': 33.92,\n  'Max Temp': 58.98,\n  'Humidity': 66,\n  'Cloudiness': 0,\n  'Wind Speed': 9.64,\n  'Country': 'RU',\n  'Current Description': 'clear sky',\n  'Rain (Inches)': 0,\n  'Snow (Inches)': 0},\n {'City': 'Lumsden',\n  'Lat': 50.65,\n  'Lng': -104.87,\n  'Max Temp': 71.6,\n  'Humidity': 60,\n  'Cloudiness': 75,\n  'Wind Speed': 5.82,\n  'Country': 'CA',\n  'Current Description': 'broken clouds',\n  'Rain (Inches)': 0,\n  'Snow (Inches)': 0},\n {'City': 'Ambilobe',\n  'Lat': -13.2,\n  'Lng': 49.05,\n  'Max Temp': 70.05,\n  'Humidity': 81,\n  'Cloudiness': 79,\n  'Wind Speed': 3.53,\n  'Country': 'MG',\n  'Current Description': 'broken clouds',\n  'Rain (Inches)': 0,\n  'Snow (Inches)': 0},\n {'City': 'Stonewall',\n  'Lat': 50.13,\n  'Lng': -97.33,\n  'Max Temp': 75.2,\n  'Humidity': 53,\n  'Cloudiness': 20,\n  'Wind Speed': 5.82,\n  'Country': 'CA',\n  'Current Description': 'few clouds',\n  'Rain (Inches)': 0,\n  'Snow (Inches)': 0},\n {'City': 'Kastamonu',\n  'Lat': 41.5,\n  'Lng': 33.67,\n  'Max Temp': 59.2,\n  'Humidity': 80,\n  'Cloudiness': 0,\n  'Wind Speed': 2.42,\n  'Country': 'TR',\n  'Current Description': 'clear sky',\n  'Rain (Inches)': 0,\n  'Snow (Inches)': 0},\n {'City': 'Turukhansk',\n  'Lat': 65.82,\n  'Lng': 87.98,\n  'Max Temp': 51.26,\n  'Humidity': 91,\n  'Cloudiness': 69,\n  'Wind Speed': 6.71,\n  'Country': 'RU',\n  'Current Description': 'broken clouds',\n  'Rain (Inches)': 0,\n  'Snow (Inches)': 0},\n {'City': 'Lorengau',\n  'Lat': -2.02,\n  'Lng': 147.27,\n  'Max Temp': 81.48,\n  'Humidity': 78,\n  'Cloudiness': 100,\n  'Wind Speed': 7.34,\n  'Country': 'PG',\n  'Current Description': 'overcast clouds',\n  'Rain (Inches)': 0,\n  'Snow (Inches)': 0},\n {'City': 'Hibbing',\n  'Lat': 47.43,\n  'Lng': -92.94,\n  'Max Temp': 75.2,\n  'Humidity': 50,\n  'Cloudiness': 75,\n  'Wind Speed': 10.29,\n  'Country': 'US',\n  'Current Description': 'broken clouds',\n  'Rain (Inches)': 0,\n  'Snow (Inches)': 0},\n {'City': 'New Richmond',\n  'Lat': 45.12,\n  'Lng': -92.54,\n  'Max Temp': 82.4,\n  'Humidity': 42,\n  'Cloudiness': 40,\n  'Wind Speed': 12.75,\n  'Country': 'US',\n  'Current Description': 'scattered clouds',\n  'Rain (Inches)': 0,\n  'Snow (Inches)': 0},\n {'City': 'Abay',\n  'Lat': 49.63,\n  'Lng': 72.85,\n  'Max Temp': 55.4,\n  'Humidity': 93,\n  'Cloudiness': 0,\n  'Wind Speed': 2.59,\n  'Country': 'KZ',\n  'Current Description': 'clear sky',\n  'Rain (Inches)': 0,\n  'Snow (Inches)': 0},\n {'City': 'Mehamn',\n  'Lat': 71.04,\n  'Lng': 27.85,\n  'Max Temp': 51.8,\n  'Humidity': 76,\n  'Cloudiness': 100,\n  'Wind Speed': 5.82,\n  'Country': 'NO',\n  'Current Description': 'overcast clouds',\n  'Rain (Inches)': 0,\n  'Snow (Inches)': 0},\n {'City': 'Kuna',\n  'Lat': 43.49,\n  'Lng': -116.42,\n  'Max Temp': 91,\n  'Humidity': 25,\n  'Cloudiness': 1,\n  'Wind Speed': 7.96,\n  'Country': 'US',\n  'Current Description': 'clear sky',\n  'Rain (Inches)': 0,\n  'Snow (Inches)': 0},\n {'City': 'Glace Bay',\n  'Lat': 46.2,\n  'Lng': -59.96,\n  'Max Temp': 75,\n  'Humidity': 78,\n  'Cloudiness': 75,\n  'Wind Speed': 10.29,\n  'Country': 'CA',\n  'Current Description': 'broken clouds',\n  'Rain (Inches)': 0,\n  'Snow (Inches)': 0},\n {'City': 'Kaseda',\n  'Lat': 31.42,\n  'Lng': 130.32,\n  'Max Temp': 78.8,\n  'Humidity': 88,\n  'Cloudiness': 75,\n  'Wind Speed': 8.05,\n  'Country': 'JP',\n  'Current Description': 'broken clouds',\n  'Rain (Inches)': 0,\n  'Snow (Inches)': 0},\n {'City': 'Urengoy',\n  'Lat': 65.97,\n  'Lng': 78.37,\n  'Max Temp': 53.13,\n  'Humidity': 73,\n  'Cloudiness': 0,\n  'Wind Speed': 7.38,\n  'Country': 'RU',\n  'Current Description': 'clear sky',\n  'Rain (Inches)': 0,\n  'Snow (Inches)': 0},\n {'City': 'La Palma',\n  'Lat': 33.85,\n  'Lng': -118.05,\n  'Max Temp': 89.6,\n  'Humidity': 38,\n  'Cloudiness': 1,\n  'Wind Speed': 3.36,\n  'Country': 'US',\n  'Current Description': 'clear sky',\n  'Rain (Inches)': 0,\n  'Snow (Inches)': 0},\n {'City': 'Sola',\n  'Lat': -13.88,\n  'Lng': 167.55,\n  'Max Temp': 79.57,\n  'Humidity': 83,\n  'Cloudiness': 87,\n  'Wind Speed': 25.97,\n  'Country': 'VU',\n  'Current Description': 'light rain',\n  'Rain (Inches)': 0.88,\n  'Snow (Inches)': 0},\n {'City': 'San Juan Chamelco',\n  'Lat': 15.43,\n  'Lng': -90.33,\n  'Max Temp': 79.2,\n  'Humidity': 46,\n  'Cloudiness': 0,\n  'Wind Speed': 4.83,\n  'Country': 'GT',\n  'Current Description': 'clear sky',\n  'Rain (Inches)': 0,\n  'Snow (Inches)': 0},\n {'City': 'Weihe',\n  'Lat': 33,\n  'Lng': 105.32,\n  'Max Temp': 60.55,\n  'Humidity': 81,\n  'Cloudiness': 81,\n  'Wind Speed': 6.15,\n  'Country': 'CN',\n  'Current Description': 'broken clouds',\n  'Rain (Inches)': 0,\n  'Snow (Inches)': 0},\n {'City': 'Tromso',\n  'Lat': 69.65,\n  'Lng': 18.96,\n  'Max Temp': 59,\n  'Humidity': 58,\n  'Cloudiness': 31,\n  'Wind Speed': 5.82,\n  'Country': 'NO',\n  'Current Description': 'scattered clouds',\n  'Rain (Inches)': 0,\n  'Snow (Inches)': 0},\n {'City': 'Taguatinga',\n  'Lat': -12.39,\n  'Lng': -46.57,\n  'Max Temp': 84.38,\n  'Humidity': 40,\n  'Cloudiness': 90,\n  'Wind Speed': 4.41,\n  'Country': 'BR',\n  'Current Description': 'overcast clouds',\n  'Rain (Inches)': 0,\n  'Snow (Inches)': 0},\n {'City': 'Ambon',\n  'Lat': -3.7,\n  'Lng': 128.18,\n  'Max Temp': 78.01,\n  'Humidity': 15,\n  'Cloudiness': 100,\n  'Wind Speed': 7.34,\n  'Country': 'ID',\n  'Current Description': 'light rain',\n  'Rain (Inches)': 0.2,\n  'Snow (Inches)': 0},\n {'City': 'Port-Cartier',\n  'Lat': 50.03,\n  'Lng': -66.87,\n  'Max Temp': 75.2,\n  'Humidity': 69,\n  'Cloudiness': 40,\n  'Wind Speed': 12.75,\n  'Country': 'CA',\n  'Current Description': 'scattered clouds',\n  'Rain (Inches)': 0,\n  'Snow (Inches)': 0},\n {'City': 'San Fernando',\n  'Lat': 15.03,\n  'Lng': 120.69,\n  'Max Temp': 81,\n  'Humidity': 86,\n  'Cloudiness': 94,\n  'Wind Speed': 3.11,\n  'Country': 'PH',\n  'Current Description': 'overcast clouds',\n  'Rain (Inches)': 0,\n  'Snow (Inches)': 0},\n {'City': 'Maicao',\n  'Lat': 11.38,\n  'Lng': -72.24,\n  'Max Temp': 89.37,\n  'Humidity': 53,\n  'Cloudiness': 53,\n  'Wind Speed': 15.17,\n  'Country': 'CO',\n  'Current Description': 'broken clouds',\n  'Rain (Inches)': 0,\n  'Snow (Inches)': 0},\n {'City': 'Cabedelo',\n  'Lat': -6.98,\n  'Lng': -34.83,\n  'Max Temp': 73.4,\n  'Humidity': 100,\n  'Cloudiness': 75,\n  'Wind Speed': 13.87,\n  'Country': 'BR',\n  'Current Description': 'light rain',\n  'Rain (Inches)': 0,\n  'Snow (Inches)': 0},\n {'City': 'Half Moon Bay',\n  'Lat': 37.46,\n  'Lng': -122.43,\n  'Max Temp': 78.01,\n  'Humidity': 82,\n  'Cloudiness': 1,\n  'Wind Speed': 9.17,\n  'Country': 'US',\n  'Current Description': 'haze',\n  'Rain (Inches)': 0,\n  'Snow (Inches)': 0},\n {'City': 'Tulsipur',\n  'Lat': 28.13,\n  'Lng': 82.3,\n  'Max Temp': 88,\n  'Humidity': 73,\n  'Cloudiness': 1,\n  'Wind Speed': 5.01,\n  'Country': 'NP',\n  'Current Description': 'light rain',\n  'Rain (Inches)': 0.47,\n  'Snow (Inches)': 0},\n {'City': 'Inhambane',\n  'Lat': -23.86,\n  'Lng': 35.38,\n  'Max Temp': 77,\n  'Humidity': 73,\n  'Cloudiness': 40,\n  'Wind Speed': 18.34,\n  'Country': 'MZ',\n  'Current Description': 'scattered clouds',\n  'Rain (Inches)': 0,\n  'Snow (Inches)': 0},\n {'City': 'Price',\n  'Lat': 39.6,\n  'Lng': -110.81,\n  'Max Temp': 89.6,\n  'Humidity': 9,\n  'Cloudiness': 1,\n  'Wind Speed': 9.17,\n  'Country': 'US',\n  'Current Description': 'clear sky',\n  'Rain (Inches)': 0,\n  'Snow (Inches)': 0},\n {'City': 'Kemijarvi',\n  'Lat': 66.71,\n  'Lng': 27.43,\n  'Max Temp': 54.1,\n  'Humidity': 80,\n  'Cloudiness': 0,\n  'Wind Speed': 5.88,\n  'Country': 'FI',\n  'Current Description': 'clear sky',\n  'Rain (Inches)': 0,\n  'Snow (Inches)': 0},\n {'City': 'Grand-Santi',\n  'Lat': 4.25,\n  'Lng': -54.38,\n  'Max Temp': 91.54,\n  'Humidity': 47,\n  'Cloudiness': 15,\n  'Wind Speed': 4.61,\n  'Country': 'GF',\n  'Current Description': 'few clouds',\n  'Rain (Inches)': 0,\n  'Snow (Inches)': 0},\n {'City': 'Tianpeng',\n  'Lat': 30.99,\n  'Lng': 103.94,\n  'Max Temp': 79,\n  'Humidity': 1,\n  'Cloudiness': 100,\n  'Wind Speed': 0.78,\n  'Country': 'CN',\n  'Current Description': 'overcast clouds',\n  'Rain (Inches)': 0,\n  'Snow (Inches)': 0}]"
     },
     "metadata": {},
     "execution_count": 10
    }
   ],
   "source": [
    "city_data"
   ]
  },
  {
   "cell_type": "code",
   "execution_count": 11,
   "metadata": {},
   "outputs": [
    {
     "output_type": "execute_result",
     "data": {
      "text/plain": "              City    Lat     Lng  Max Temp  Humidity  Cloudiness  Wind Speed  \\\n0    Mar Del Plata -38.00  -57.56     55.00        50          51       24.16   \n1        Jamestown  42.10  -79.24     69.01        93          90       23.04   \n2         Nyandoma  61.67   40.20     62.17        97         100        9.89   \n3           Albany  42.60  -73.97     89.01        70          48        4.00   \n4             Aden  12.78   45.04     89.28        69          80        8.90   \n..             ...    ...     ...       ...       ...         ...         ...   \n565      Inhambane -23.86   35.38     77.00        73          40       18.34   \n566          Price  39.60 -110.81     89.60         9           1        9.17   \n567      Kemijarvi  66.71   27.43     54.10        80           0        5.88   \n568    Grand-Santi   4.25  -54.38     91.54        47          15        4.61   \n569       Tianpeng  30.99  103.94     79.00         1         100        0.78   \n\n    Country   Current Description  Rain (Inches)  Snow (Inches)  \n0        AR         broken clouds           0.00              0  \n1        US  heavy intensity rain           4.06              0  \n2        RU            light rain           0.13              0  \n3        US            light rain           0.19              0  \n4        YE         broken clouds           0.00              0  \n..      ...                   ...            ...            ...  \n565      MZ      scattered clouds           0.00              0  \n566      US             clear sky           0.00              0  \n567      FI             clear sky           0.00              0  \n568      GF            few clouds           0.00              0  \n569      CN       overcast clouds           0.00              0  \n\n[570 rows x 11 columns]",
      "text/html": "<div>\n<style scoped>\n    .dataframe tbody tr th:only-of-type {\n        vertical-align: middle;\n    }\n\n    .dataframe tbody tr th {\n        vertical-align: top;\n    }\n\n    .dataframe thead th {\n        text-align: right;\n    }\n</style>\n<table border=\"1\" class=\"dataframe\">\n  <thead>\n    <tr style=\"text-align: right;\">\n      <th></th>\n      <th>City</th>\n      <th>Lat</th>\n      <th>Lng</th>\n      <th>Max Temp</th>\n      <th>Humidity</th>\n      <th>Cloudiness</th>\n      <th>Wind Speed</th>\n      <th>Country</th>\n      <th>Current Description</th>\n      <th>Rain (Inches)</th>\n      <th>Snow (Inches)</th>\n    </tr>\n  </thead>\n  <tbody>\n    <tr>\n      <th>0</th>\n      <td>Mar Del Plata</td>\n      <td>-38.00</td>\n      <td>-57.56</td>\n      <td>55.00</td>\n      <td>50</td>\n      <td>51</td>\n      <td>24.16</td>\n      <td>AR</td>\n      <td>broken clouds</td>\n      <td>0.00</td>\n      <td>0</td>\n    </tr>\n    <tr>\n      <th>1</th>\n      <td>Jamestown</td>\n      <td>42.10</td>\n      <td>-79.24</td>\n      <td>69.01</td>\n      <td>93</td>\n      <td>90</td>\n      <td>23.04</td>\n      <td>US</td>\n      <td>heavy intensity rain</td>\n      <td>4.06</td>\n      <td>0</td>\n    </tr>\n    <tr>\n      <th>2</th>\n      <td>Nyandoma</td>\n      <td>61.67</td>\n      <td>40.20</td>\n      <td>62.17</td>\n      <td>97</td>\n      <td>100</td>\n      <td>9.89</td>\n      <td>RU</td>\n      <td>light rain</td>\n      <td>0.13</td>\n      <td>0</td>\n    </tr>\n    <tr>\n      <th>3</th>\n      <td>Albany</td>\n      <td>42.60</td>\n      <td>-73.97</td>\n      <td>89.01</td>\n      <td>70</td>\n      <td>48</td>\n      <td>4.00</td>\n      <td>US</td>\n      <td>light rain</td>\n      <td>0.19</td>\n      <td>0</td>\n    </tr>\n    <tr>\n      <th>4</th>\n      <td>Aden</td>\n      <td>12.78</td>\n      <td>45.04</td>\n      <td>89.28</td>\n      <td>69</td>\n      <td>80</td>\n      <td>8.90</td>\n      <td>YE</td>\n      <td>broken clouds</td>\n      <td>0.00</td>\n      <td>0</td>\n    </tr>\n    <tr>\n      <th>...</th>\n      <td>...</td>\n      <td>...</td>\n      <td>...</td>\n      <td>...</td>\n      <td>...</td>\n      <td>...</td>\n      <td>...</td>\n      <td>...</td>\n      <td>...</td>\n      <td>...</td>\n      <td>...</td>\n    </tr>\n    <tr>\n      <th>565</th>\n      <td>Inhambane</td>\n      <td>-23.86</td>\n      <td>35.38</td>\n      <td>77.00</td>\n      <td>73</td>\n      <td>40</td>\n      <td>18.34</td>\n      <td>MZ</td>\n      <td>scattered clouds</td>\n      <td>0.00</td>\n      <td>0</td>\n    </tr>\n    <tr>\n      <th>566</th>\n      <td>Price</td>\n      <td>39.60</td>\n      <td>-110.81</td>\n      <td>89.60</td>\n      <td>9</td>\n      <td>1</td>\n      <td>9.17</td>\n      <td>US</td>\n      <td>clear sky</td>\n      <td>0.00</td>\n      <td>0</td>\n    </tr>\n    <tr>\n      <th>567</th>\n      <td>Kemijarvi</td>\n      <td>66.71</td>\n      <td>27.43</td>\n      <td>54.10</td>\n      <td>80</td>\n      <td>0</td>\n      <td>5.88</td>\n      <td>FI</td>\n      <td>clear sky</td>\n      <td>0.00</td>\n      <td>0</td>\n    </tr>\n    <tr>\n      <th>568</th>\n      <td>Grand-Santi</td>\n      <td>4.25</td>\n      <td>-54.38</td>\n      <td>91.54</td>\n      <td>47</td>\n      <td>15</td>\n      <td>4.61</td>\n      <td>GF</td>\n      <td>few clouds</td>\n      <td>0.00</td>\n      <td>0</td>\n    </tr>\n    <tr>\n      <th>569</th>\n      <td>Tianpeng</td>\n      <td>30.99</td>\n      <td>103.94</td>\n      <td>79.00</td>\n      <td>1</td>\n      <td>100</td>\n      <td>0.78</td>\n      <td>CN</td>\n      <td>overcast clouds</td>\n      <td>0.00</td>\n      <td>0</td>\n    </tr>\n  </tbody>\n</table>\n<p>570 rows × 11 columns</p>\n</div>"
     },
     "metadata": {},
     "execution_count": 11
    }
   ],
   "source": [
    "#Challenge 6 (Convert the array of dictionaries to a Pandas)\n",
    "city_data_df = pd.DataFrame(city_data)\n",
    "city_data_df"
   ]
  },
  {
   "cell_type": "code",
   "execution_count": 12,
   "metadata": {},
   "outputs": [
    {
     "output_type": "execute_result",
     "data": {
      "text/plain": "              City Country    Lat     Lng  Max Temp  Humidity  Cloudiness  \\\n0    Mar Del Plata      AR -38.00  -57.56     55.00        50          51   \n1        Jamestown      US  42.10  -79.24     69.01        93          90   \n2         Nyandoma      RU  61.67   40.20     62.17        97         100   \n3           Albany      US  42.60  -73.97     89.01        70          48   \n4             Aden      YE  12.78   45.04     89.28        69          80   \n..             ...     ...    ...     ...       ...       ...         ...   \n565      Inhambane      MZ -23.86   35.38     77.00        73          40   \n566          Price      US  39.60 -110.81     89.60         9           1   \n567      Kemijarvi      FI  66.71   27.43     54.10        80           0   \n568    Grand-Santi      GF   4.25  -54.38     91.54        47          15   \n569       Tianpeng      CN  30.99  103.94     79.00         1         100   \n\n     Wind Speed   Current Description  Rain (Inches)  Snow (Inches)  \n0         24.16         broken clouds           0.00              0  \n1         23.04  heavy intensity rain           4.06              0  \n2          9.89            light rain           0.13              0  \n3          4.00            light rain           0.19              0  \n4          8.90         broken clouds           0.00              0  \n..          ...                   ...            ...            ...  \n565       18.34      scattered clouds           0.00              0  \n566        9.17             clear sky           0.00              0  \n567        5.88             clear sky           0.00              0  \n568        4.61            few clouds           0.00              0  \n569        0.78       overcast clouds           0.00              0  \n\n[570 rows x 11 columns]",
      "text/html": "<div>\n<style scoped>\n    .dataframe tbody tr th:only-of-type {\n        vertical-align: middle;\n    }\n\n    .dataframe tbody tr th {\n        vertical-align: top;\n    }\n\n    .dataframe thead th {\n        text-align: right;\n    }\n</style>\n<table border=\"1\" class=\"dataframe\">\n  <thead>\n    <tr style=\"text-align: right;\">\n      <th></th>\n      <th>City</th>\n      <th>Country</th>\n      <th>Lat</th>\n      <th>Lng</th>\n      <th>Max Temp</th>\n      <th>Humidity</th>\n      <th>Cloudiness</th>\n      <th>Wind Speed</th>\n      <th>Current Description</th>\n      <th>Rain (Inches)</th>\n      <th>Snow (Inches)</th>\n    </tr>\n  </thead>\n  <tbody>\n    <tr>\n      <th>0</th>\n      <td>Mar Del Plata</td>\n      <td>AR</td>\n      <td>-38.00</td>\n      <td>-57.56</td>\n      <td>55.00</td>\n      <td>50</td>\n      <td>51</td>\n      <td>24.16</td>\n      <td>broken clouds</td>\n      <td>0.00</td>\n      <td>0</td>\n    </tr>\n    <tr>\n      <th>1</th>\n      <td>Jamestown</td>\n      <td>US</td>\n      <td>42.10</td>\n      <td>-79.24</td>\n      <td>69.01</td>\n      <td>93</td>\n      <td>90</td>\n      <td>23.04</td>\n      <td>heavy intensity rain</td>\n      <td>4.06</td>\n      <td>0</td>\n    </tr>\n    <tr>\n      <th>2</th>\n      <td>Nyandoma</td>\n      <td>RU</td>\n      <td>61.67</td>\n      <td>40.20</td>\n      <td>62.17</td>\n      <td>97</td>\n      <td>100</td>\n      <td>9.89</td>\n      <td>light rain</td>\n      <td>0.13</td>\n      <td>0</td>\n    </tr>\n    <tr>\n      <th>3</th>\n      <td>Albany</td>\n      <td>US</td>\n      <td>42.60</td>\n      <td>-73.97</td>\n      <td>89.01</td>\n      <td>70</td>\n      <td>48</td>\n      <td>4.00</td>\n      <td>light rain</td>\n      <td>0.19</td>\n      <td>0</td>\n    </tr>\n    <tr>\n      <th>4</th>\n      <td>Aden</td>\n      <td>YE</td>\n      <td>12.78</td>\n      <td>45.04</td>\n      <td>89.28</td>\n      <td>69</td>\n      <td>80</td>\n      <td>8.90</td>\n      <td>broken clouds</td>\n      <td>0.00</td>\n      <td>0</td>\n    </tr>\n    <tr>\n      <th>...</th>\n      <td>...</td>\n      <td>...</td>\n      <td>...</td>\n      <td>...</td>\n      <td>...</td>\n      <td>...</td>\n      <td>...</td>\n      <td>...</td>\n      <td>...</td>\n      <td>...</td>\n      <td>...</td>\n    </tr>\n    <tr>\n      <th>565</th>\n      <td>Inhambane</td>\n      <td>MZ</td>\n      <td>-23.86</td>\n      <td>35.38</td>\n      <td>77.00</td>\n      <td>73</td>\n      <td>40</td>\n      <td>18.34</td>\n      <td>scattered clouds</td>\n      <td>0.00</td>\n      <td>0</td>\n    </tr>\n    <tr>\n      <th>566</th>\n      <td>Price</td>\n      <td>US</td>\n      <td>39.60</td>\n      <td>-110.81</td>\n      <td>89.60</td>\n      <td>9</td>\n      <td>1</td>\n      <td>9.17</td>\n      <td>clear sky</td>\n      <td>0.00</td>\n      <td>0</td>\n    </tr>\n    <tr>\n      <th>567</th>\n      <td>Kemijarvi</td>\n      <td>FI</td>\n      <td>66.71</td>\n      <td>27.43</td>\n      <td>54.10</td>\n      <td>80</td>\n      <td>0</td>\n      <td>5.88</td>\n      <td>clear sky</td>\n      <td>0.00</td>\n      <td>0</td>\n    </tr>\n    <tr>\n      <th>568</th>\n      <td>Grand-Santi</td>\n      <td>GF</td>\n      <td>4.25</td>\n      <td>-54.38</td>\n      <td>91.54</td>\n      <td>47</td>\n      <td>15</td>\n      <td>4.61</td>\n      <td>few clouds</td>\n      <td>0.00</td>\n      <td>0</td>\n    </tr>\n    <tr>\n      <th>569</th>\n      <td>Tianpeng</td>\n      <td>CN</td>\n      <td>30.99</td>\n      <td>103.94</td>\n      <td>79.00</td>\n      <td>1</td>\n      <td>100</td>\n      <td>0.78</td>\n      <td>overcast clouds</td>\n      <td>0.00</td>\n      <td>0</td>\n    </tr>\n  </tbody>\n</table>\n<p>570 rows × 11 columns</p>\n</div>"
     },
     "metadata": {},
     "execution_count": 12
    }
   ],
   "source": [
    "#Challenge 6 (new column order)\n",
    "#City, Country, Date, Lat, Lng, Max Temp, Humidity, Cloudiness, and Wind Speed,\n",
    "new_column_order = [\"City\", \"Country\", \"Lat\", \"Lng\", \"Max Temp\",\"Humidity\", \"Cloudiness\", \"Wind Speed\", \"Current Description\", \"Rain (Inches)\", \"Snow (Inches)\"]\n",
    "city_data_df.round({'Rain (Inches)':1})\n",
    "city_data_df = city_data_df[new_column_order]\n",
    "city_data_df"
   ]
  },
  {
   "cell_type": "code",
   "execution_count": 13,
   "metadata": {},
   "outputs": [],
   "source": [
    "#Challenge 6 (Create the output file CSV).\n",
    "output_data_file = \"weather_data/WeatherPy_database.csv\"\n",
    "#Challenge 6 (export the City_Data into a CSV).\n",
    "city_data_df.to_csv(output_data_file, index_label=\"City_ID\")"
   ]
  },
  {
   "cell_type": "code",
   "execution_count": null,
   "metadata": {},
   "outputs": [],
   "source": []
  }
 ],
 "metadata": {
  "kernelspec": {
   "display_name": "PythonData",
   "language": "python",
   "name": "pythondata"
  },
  "language_info": {
   "codemirror_mode": {
    "name": "ipython",
    "version": 3
   },
   "file_extension": ".py",
   "mimetype": "text/x-python",
   "name": "python",
   "nbconvert_exporter": "python",
   "pygments_lexer": "ipython3",
   "version": "3.7.7-final"
  }
 },
 "nbformat": 4,
 "nbformat_minor": 4
}